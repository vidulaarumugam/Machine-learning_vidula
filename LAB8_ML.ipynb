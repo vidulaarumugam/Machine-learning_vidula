{
  "nbformat": 4,
  "nbformat_minor": 0,
  "metadata": {
    "colab": {
      "provenance": [],
      "authorship_tag": "ABX9TyMjvDWqBKtbN9dgkxim+Nss",
      "include_colab_link": true
    },
    "kernelspec": {
      "name": "python3",
      "display_name": "Python 3"
    },
    "language_info": {
      "name": "python"
    }
  },
  "cells": [
    {
      "cell_type": "markdown",
      "metadata": {
        "id": "view-in-github",
        "colab_type": "text"
      },
      "source": [
        "<a href=\"https://colab.research.google.com/github/vidulaarumugam/Machine-learning_vidula/blob/main/LAB8_ML.ipynb\" target=\"_parent\"><img src=\"https://colab.research.google.com/assets/colab-badge.svg\" alt=\"Open In Colab\"/></a>"
      ]
    },
    {
      "cell_type": "code",
      "execution_count": 3,
      "metadata": {
        "id": "WPCiIzE6DCkL"
      },
      "outputs": [],
      "source": [
        "import pandas as pd\n",
        "import numpy as np"
      ]
    },
    {
      "cell_type": "code",
      "source": [
        "#A1)\n",
        "df = pd.read_excel('data.xlsx')\n",
        "\n",
        "# Calculate the prior probability for each class\n",
        "class_counts = df['buys_computer'].value_counts()\n",
        "prior_probabilities = class_counts / len(df)\n",
        "\n",
        "# Print the prior probabilities for each class\n",
        "print(prior_probabilities)"
      ],
      "metadata": {
        "colab": {
          "base_uri": "https://localhost:8080/"
        },
        "id": "-CHiPkwxFfPM",
        "outputId": "7057d7f5-8e69-498a-f6b4-bc91ad25d1ca"
      },
      "execution_count": 7,
      "outputs": [
        {
          "output_type": "stream",
          "name": "stdout",
          "text": [
            "yes    0.642857\n",
            "no     0.357143\n",
            "Name: buys_computer, dtype: float64\n"
          ]
        }
      ]
    },
    {
      "cell_type": "code",
      "source": [
        "# A2)Calculate the class conditional densities for each feature and class\n",
        "class_conditional_densities = {}\n",
        "for feature in df.columns[:-1]:\n",
        "    for class_value in df['buys_computer'].unique():\n",
        "        class_conditional_densities[(feature, class_value)] = df[df['buys_computer'] == class_value][feature].value_counts() / len(df[df['buys_computer'] == class_value])\n",
        "\n",
        "# Print the class conditional densities\n",
        "for feature, class_value in class_conditional_densities:\n",
        "    print(f\"Class conditional density for {feature} = {class_value}:\")\n",
        "    print(class_conditional_densities[(feature, class_value)])\n",
        "\n",
        "# Check if any class conditional density has zero values\n",
        "zero_values_found = False\n",
        "for feature, class_value in class_conditional_densities:\n",
        "    if any(value == 0 for value in class_conditional_densities[(feature, class_value)]):\n",
        "        zero_values_found = True\n",
        "        print(f\"Class conditional density for {feature} = {class_value} has zero values.\")\n",
        "\n",
        "if not zero_values_found:\n",
        "    print(\"No class conditional density has zero values.\")"
      ],
      "metadata": {
        "colab": {
          "base_uri": "https://localhost:8080/"
        },
        "id": "6r8TRfdlG7BL",
        "outputId": "ed1e5450-d9a5-4ae4-e884-6686fe31be11"
      },
      "execution_count": 8,
      "outputs": [
        {
          "output_type": "stream",
          "name": "stdout",
          "text": [
            "Class conditional density for age = no:\n",
            "<=30    0.6\n",
            ">40     0.4\n",
            "Name: age, dtype: float64\n",
            "Class conditional density for age = yes:\n",
            "31…40    0.444444\n",
            ">40      0.333333\n",
            "<=30     0.222222\n",
            "Name: age, dtype: float64\n",
            "Class conditional density for income = no:\n",
            "high       0.4\n",
            "low        0.2\n",
            "medium     0.2\n",
            "medium     0.2\n",
            "Name: income, dtype: float64\n",
            "Class conditional density for income = yes:\n",
            "medium    0.444444\n",
            "low       0.333333\n",
            "high      0.222222\n",
            "Name: income, dtype: float64\n",
            "Class conditional density for student = no:\n",
            "no     0.8\n",
            "yes    0.2\n",
            "Name: student, dtype: float64\n",
            "Class conditional density for student = yes:\n",
            "yes    0.666667\n",
            "no     0.333333\n",
            "Name: student, dtype: float64\n",
            "Class conditional density for credit_rating = no:\n",
            "excellent    0.6\n",
            "fair         0.4\n",
            "Name: credit_rating, dtype: float64\n",
            "Class conditional density for credit_rating = yes:\n",
            "fair         0.666667\n",
            "excellent    0.333333\n",
            "Name: credit_rating, dtype: float64\n",
            "No class conditional density has zero values.\n"
          ]
        }
      ]
    },
    {
      "cell_type": "code",
      "source": [],
      "metadata": {
        "id": "KiwuwJx6Hgyf"
      },
      "execution_count": null,
      "outputs": []
    }
  ]
}