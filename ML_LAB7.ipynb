{
  "nbformat": 4,
  "nbformat_minor": 0,
  "metadata": {
    "colab": {
      "provenance": [],
      "authorship_tag": "ABX9TyPlHGn3P3e1IOycZSkeliF4",
      "include_colab_link": true
    },
    "kernelspec": {
      "name": "python3",
      "display_name": "Python 3"
    },
    "language_info": {
      "name": "python"
    }
  },
  "cells": [
    {
      "cell_type": "markdown",
      "metadata": {
        "id": "view-in-github",
        "colab_type": "text"
      },
      "source": [
        "<a href=\"https://colab.research.google.com/github/vidulaarumugam/Machine-learning_vidula/blob/main/ML_LAB7.ipynb\" target=\"_parent\"><img src=\"https://colab.research.google.com/assets/colab-badge.svg\" alt=\"Open In Colab\"/></a>"
      ]
    },
    {
      "cell_type": "code",
      "execution_count": null,
      "metadata": {
        "id": "mRedoZ5t7yfv"
      },
      "outputs": [],
      "source": [
        "import numpy as np\n",
        "from sklearn import datasets\n",
        "from sklearn.model_selection import train_test_split\n",
        "from sklearn.svm import SVC\n",
        "from sklearn.metrics import accuracy_score\n",
        "\n",
        "\n",
        "# For example, if your original labels are 0, 1, 2, ..., N, you can create binary labels as follows:\n",
        "binary_labels = (y_train == 0) | (y_train == 1)\n",
        "\n",
        "# Split the dataset into training and testing sets\n",
        "X_train, X_test, y_train_binary, y_test_binary = train_test_split(X_train, binary_labels, test_size=0.2, random_state=42)\n",
        "\n",
        "# Create an SVM classifier and train it on the binary labels\n",
        "svm_classifier = SVC(kernel='linear')\n",
        "svm_classifier.fit(X_train, y_train_binary)\n",
        "\n",
        "# Make predictions on the test set\n",
        "y_pred_binary = svm_classifier.predict(X_test)\n",
        "\n",
        "# Calculate the accuracy of the binary SVM classifier\n",
        "accuracy = accuracy_score(y_test_binary, y_pred_binary)\n",
        "print(f\"Accuracy of the binary SVM classifier: {accuracy}\")\n",
        "\n",
        "# If you want to use the binary SVM for a different pair of classes, you can modify the binary_labels accordingly.\n"
      ]
    }
  ]
}