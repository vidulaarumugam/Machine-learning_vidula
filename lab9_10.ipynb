{
  "nbformat": 4,
  "nbformat_minor": 0,
  "metadata": {
    "colab": {
      "provenance": [],
      "authorship_tag": "ABX9TyM0xMaYmXR5FsRPiNN4SHhc",
      "include_colab_link": true
    },
    "kernelspec": {
      "name": "python3",
      "display_name": "Python 3"
    },
    "language_info": {
      "name": "python"
    }
  },
  "cells": [
    {
      "cell_type": "markdown",
      "metadata": {
        "id": "view-in-github",
        "colab_type": "text"
      },
      "source": [
        "<a href=\"https://colab.research.google.com/github/vidulaarumugam/Machine-learning_vidula/blob/main/lab9_10.ipynb\" target=\"_parent\"><img src=\"https://colab.research.google.com/assets/colab-badge.svg\" alt=\"Open In Colab\"/></a>"
      ]
    },
    {
      "cell_type": "code",
      "source": [
        "import pandas as pd\n",
        "from sklearn.cluster import KMeans\n",
        "from sklearn.metrics import silhouette_score"
      ],
      "metadata": {
        "id": "3q0acg3W_w5O"
      },
      "execution_count": 8,
      "outputs": []
    },
    {
      "cell_type": "code",
      "execution_count": 4,
      "metadata": {
        "colab": {
          "base_uri": "https://localhost:8080/"
        },
        "id": "zYXkC7Ht8HjN",
        "outputId": "186f0001-f87f-44c2-9e48-696f4dff03bd"
      },
      "outputs": [
        {
          "output_type": "stream",
          "name": "stdout",
          "text": [
            "   output\n",
            "0     0.0\n",
            "1     0.0\n",
            "2     0.0\n",
            "3     0.0\n",
            "4     0.0\n",
            "                                            Equation  output  cluster\n",
            "0  px2+px+k=0 \\n7((-5)2-5)+k=0\\n 7(25-5)+k=0\\n140...     0.0        1\n",
            "1  X= - b ± √b2 – 4ac/2a\\t\\nx=  - 3 ± √(3)2 -4(4)...     0.0        1\n",
            "2  x2 + kx + 64=0 \\nx - 8x +k =0 \\nb - 4ac>= 0\\n ...     0.0        1\n",
            "3  \"X=- b ± squareroot(b^2-4ac) /2a\\n X= - (-2√2)...     0.0        1\n",
            "4  X= -(-2√2)±√((2√2)^2+4(√(3 ))(2√3) )\\n\\n=2√2±√...     0.0        1\n"
          ]
        },
        {
          "output_type": "stream",
          "name": "stderr",
          "text": [
            "/usr/local/lib/python3.10/dist-packages/sklearn/cluster/_kmeans.py:870: FutureWarning: The default value of `n_init` will change from 10 to 'auto' in 1.4. Set the value of `n_init` explicitly to suppress the warning\n",
            "  warnings.warn(\n"
          ]
        }
      ],
      "source": [
        "# Merge train and test datasets\n",
        "df_train =pd.read_excel('training (2).xlsx')\n",
        "df_test =pd.read_excel('testing (2).xlsx')\n",
        "df_combined = pd.concat([df_train, df_test], ignore_index=True)\n",
        "# Remove class labels\n",
        "features = df_combined.drop('Equation', axis=1)\n",
        "print(features.head())\n",
        "\n",
        "\n",
        "# Initialize KMeans with the desired number of clusters (k=3 or k=5)\n",
        "kmeans = KMeans(n_clusters=5)  # You can change the value here to try different numbers of clusters\n",
        "\n",
        "# Fit KMeans to your data\n",
        "kmeans.fit(features)\n",
        "\n",
        "# Get cluster labels for each sample\n",
        "cluster_labels = kmeans.labels_\n",
        "\n",
        "# Add cluster labels to your combined dataset\n",
        "df_combined['cluster'] = cluster_labels\n",
        "\n",
        "# Check the updated dataset with cluster labels\n",
        "print(df_combined.head())\n"
      ]
    },
    {
      "cell_type": "code",
      "source": [
        "from sklearn.cluster import KMeans\n",
        "import numpy as np\n",
        "\n",
        "# Assuming df_combined contains your combined dataset without class labels\n",
        "\n",
        "# Remove any non-numeric columns if necessary\n",
        "numeric_data = df_combined.select_dtypes(include=['float64', 'int64'])\n",
        "\n",
        "# Empty list to hold average distances\n",
        "avg_distances = []\n",
        "\n",
        "# Testing k values from 1 to 31\n",
        "k_values = range(1, 32)\n",
        "\n",
        "for k in k_values:\n",
        "    kmeans = KMeans(n_clusters=k, random_state=42)\n",
        "    kmeans.fit(numeric_data)\n",
        "    avg_distances.append(np.sqrt(kmeans.inertia_ / numeric_data.shape[0]))  # Calculate average distance\n",
        "\n",
        "# Calculate differences in average distances to find the elbow point\n",
        "differences = np.diff(avg_distances)\n",
        "\n",
        "# Finding the elbow point where the rate of decrease slows down\n",
        "elbow_point = np.argmin(differences) + 1  # Adding 1 to account for zero-based indexing\n",
        "\n",
        "# Print average distances for each k\n",
        "for k, avg_dist in zip(k_values, avg_distances):\n",
        "    print(f\"K = {k}, Average Euclidean Distance = {avg_dist}\")\n",
        "\n",
        "# Print the ideal k value based on the elbow method\n",
        "print(f\"Ideal K value based on elbow method: {elbow_point}\")\n"
      ],
      "metadata": {
        "colab": {
          "base_uri": "https://localhost:8080/"
        },
        "id": "gUFbvkI8BcSl",
        "outputId": "f86cda39-a576-4929-9205-ac38afdd9399"
      },
      "execution_count": 11,
      "outputs": [
        {
          "output_type": "stream",
          "name": "stderr",
          "text": [
            "/usr/local/lib/python3.10/dist-packages/sklearn/cluster/_kmeans.py:870: FutureWarning: The default value of `n_init` will change from 10 to 'auto' in 1.4. Set the value of `n_init` explicitly to suppress the warning\n",
            "  warnings.warn(\n",
            "/usr/local/lib/python3.10/dist-packages/sklearn/cluster/_kmeans.py:870: FutureWarning: The default value of `n_init` will change from 10 to 'auto' in 1.4. Set the value of `n_init` explicitly to suppress the warning\n",
            "  warnings.warn(\n",
            "/usr/local/lib/python3.10/dist-packages/sklearn/cluster/_kmeans.py:870: FutureWarning: The default value of `n_init` will change from 10 to 'auto' in 1.4. Set the value of `n_init` explicitly to suppress the warning\n",
            "  warnings.warn(\n",
            "/usr/local/lib/python3.10/dist-packages/sklearn/cluster/_kmeans.py:870: FutureWarning: The default value of `n_init` will change from 10 to 'auto' in 1.4. Set the value of `n_init` explicitly to suppress the warning\n",
            "  warnings.warn(\n",
            "/usr/local/lib/python3.10/dist-packages/sklearn/cluster/_kmeans.py:870: FutureWarning: The default value of `n_init` will change from 10 to 'auto' in 1.4. Set the value of `n_init` explicitly to suppress the warning\n",
            "  warnings.warn(\n",
            "/usr/local/lib/python3.10/dist-packages/sklearn/cluster/_kmeans.py:870: FutureWarning: The default value of `n_init` will change from 10 to 'auto' in 1.4. Set the value of `n_init` explicitly to suppress the warning\n",
            "  warnings.warn(\n",
            "/usr/local/lib/python3.10/dist-packages/sklearn/cluster/_kmeans.py:870: FutureWarning: The default value of `n_init` will change from 10 to 'auto' in 1.4. Set the value of `n_init` explicitly to suppress the warning\n",
            "  warnings.warn(\n",
            "/usr/local/lib/python3.10/dist-packages/sklearn/cluster/_kmeans.py:870: FutureWarning: The default value of `n_init` will change from 10 to 'auto' in 1.4. Set the value of `n_init` explicitly to suppress the warning\n",
            "  warnings.warn(\n",
            "/usr/local/lib/python3.10/dist-packages/sklearn/cluster/_kmeans.py:870: FutureWarning: The default value of `n_init` will change from 10 to 'auto' in 1.4. Set the value of `n_init` explicitly to suppress the warning\n",
            "  warnings.warn(\n",
            "/usr/local/lib/python3.10/dist-packages/sklearn/cluster/_kmeans.py:870: FutureWarning: The default value of `n_init` will change from 10 to 'auto' in 1.4. Set the value of `n_init` explicitly to suppress the warning\n",
            "  warnings.warn(\n",
            "/usr/local/lib/python3.10/dist-packages/sklearn/cluster/_kmeans.py:870: FutureWarning: The default value of `n_init` will change from 10 to 'auto' in 1.4. Set the value of `n_init` explicitly to suppress the warning\n",
            "  warnings.warn(\n",
            "/usr/local/lib/python3.10/dist-packages/sklearn/cluster/_kmeans.py:870: FutureWarning: The default value of `n_init` will change from 10 to 'auto' in 1.4. Set the value of `n_init` explicitly to suppress the warning\n",
            "  warnings.warn(\n",
            "/usr/local/lib/python3.10/dist-packages/sklearn/cluster/_kmeans.py:870: FutureWarning: The default value of `n_init` will change from 10 to 'auto' in 1.4. Set the value of `n_init` explicitly to suppress the warning\n",
            "  warnings.warn(\n",
            "/usr/local/lib/python3.10/dist-packages/sklearn/cluster/_kmeans.py:870: FutureWarning: The default value of `n_init` will change from 10 to 'auto' in 1.4. Set the value of `n_init` explicitly to suppress the warning\n",
            "  warnings.warn(\n",
            "/usr/local/lib/python3.10/dist-packages/sklearn/cluster/_kmeans.py:870: FutureWarning: The default value of `n_init` will change from 10 to 'auto' in 1.4. Set the value of `n_init` explicitly to suppress the warning\n",
            "  warnings.warn(\n",
            "/usr/local/lib/python3.10/dist-packages/sklearn/cluster/_kmeans.py:870: FutureWarning: The default value of `n_init` will change from 10 to 'auto' in 1.4. Set the value of `n_init` explicitly to suppress the warning\n",
            "  warnings.warn(\n",
            "/usr/local/lib/python3.10/dist-packages/sklearn/cluster/_kmeans.py:870: FutureWarning: The default value of `n_init` will change from 10 to 'auto' in 1.4. Set the value of `n_init` explicitly to suppress the warning\n",
            "  warnings.warn(\n",
            "/usr/local/lib/python3.10/dist-packages/sklearn/cluster/_kmeans.py:870: FutureWarning: The default value of `n_init` will change from 10 to 'auto' in 1.4. Set the value of `n_init` explicitly to suppress the warning\n",
            "  warnings.warn(\n",
            "/usr/local/lib/python3.10/dist-packages/sklearn/cluster/_kmeans.py:870: FutureWarning: The default value of `n_init` will change from 10 to 'auto' in 1.4. Set the value of `n_init` explicitly to suppress the warning\n",
            "  warnings.warn(\n",
            "/usr/local/lib/python3.10/dist-packages/sklearn/cluster/_kmeans.py:870: FutureWarning: The default value of `n_init` will change from 10 to 'auto' in 1.4. Set the value of `n_init` explicitly to suppress the warning\n",
            "  warnings.warn(\n",
            "/usr/local/lib/python3.10/dist-packages/sklearn/cluster/_kmeans.py:870: FutureWarning: The default value of `n_init` will change from 10 to 'auto' in 1.4. Set the value of `n_init` explicitly to suppress the warning\n",
            "  warnings.warn(\n",
            "/usr/local/lib/python3.10/dist-packages/sklearn/cluster/_kmeans.py:870: FutureWarning: The default value of `n_init` will change from 10 to 'auto' in 1.4. Set the value of `n_init` explicitly to suppress the warning\n",
            "  warnings.warn(\n",
            "/usr/local/lib/python3.10/dist-packages/sklearn/cluster/_kmeans.py:870: FutureWarning: The default value of `n_init` will change from 10 to 'auto' in 1.4. Set the value of `n_init` explicitly to suppress the warning\n",
            "  warnings.warn(\n",
            "/usr/local/lib/python3.10/dist-packages/sklearn/cluster/_kmeans.py:870: FutureWarning: The default value of `n_init` will change from 10 to 'auto' in 1.4. Set the value of `n_init` explicitly to suppress the warning\n",
            "  warnings.warn(\n",
            "/usr/local/lib/python3.10/dist-packages/sklearn/cluster/_kmeans.py:870: FutureWarning: The default value of `n_init` will change from 10 to 'auto' in 1.4. Set the value of `n_init` explicitly to suppress the warning\n",
            "  warnings.warn(\n",
            "/usr/local/lib/python3.10/dist-packages/sklearn/cluster/_kmeans.py:870: FutureWarning: The default value of `n_init` will change from 10 to 'auto' in 1.4. Set the value of `n_init` explicitly to suppress the warning\n",
            "  warnings.warn(\n",
            "/usr/local/lib/python3.10/dist-packages/sklearn/cluster/_kmeans.py:870: FutureWarning: The default value of `n_init` will change from 10 to 'auto' in 1.4. Set the value of `n_init` explicitly to suppress the warning\n",
            "  warnings.warn(\n",
            "/usr/local/lib/python3.10/dist-packages/sklearn/cluster/_kmeans.py:870: FutureWarning: The default value of `n_init` will change from 10 to 'auto' in 1.4. Set the value of `n_init` explicitly to suppress the warning\n",
            "  warnings.warn(\n",
            "/usr/local/lib/python3.10/dist-packages/sklearn/cluster/_kmeans.py:870: FutureWarning: The default value of `n_init` will change from 10 to 'auto' in 1.4. Set the value of `n_init` explicitly to suppress the warning\n",
            "  warnings.warn(\n"
          ]
        },
        {
          "output_type": "stream",
          "name": "stdout",
          "text": [
            "K = 1, Average Euclidean Distance = 1.1984342981172293\n",
            "K = 2, Average Euclidean Distance = 0.6800505556479636\n",
            "K = 3, Average Euclidean Distance = 0.4653669421204348\n",
            "K = 4, Average Euclidean Distance = 0.3399161792589594\n",
            "K = 5, Average Euclidean Distance = 0.27303690309050327\n",
            "K = 6, Average Euclidean Distance = 0.22722025633209894\n",
            "K = 7, Average Euclidean Distance = 0.19687772280573587\n",
            "K = 8, Average Euclidean Distance = 0.16729258072494765\n",
            "K = 9, Average Euclidean Distance = 0.1450588259054069\n",
            "K = 10, Average Euclidean Distance = 0.1334109494289805\n",
            "K = 11, Average Euclidean Distance = 0.12076006151871746\n",
            "K = 12, Average Euclidean Distance = 0.10962615902921821\n",
            "K = 13, Average Euclidean Distance = 0.09820800866327521\n",
            "K = 14, Average Euclidean Distance = 0.0890377904741441\n",
            "K = 15, Average Euclidean Distance = 0.08152982844356811\n",
            "K = 16, Average Euclidean Distance = 0.07115779616528851\n",
            "K = 17, Average Euclidean Distance = 0.06204949877307439\n",
            "K = 18, Average Euclidean Distance = 0.058535232775081554\n",
            "K = 19, Average Euclidean Distance = 0.05531073775550773\n",
            "K = 20, Average Euclidean Distance = 0.05138239332954527\n",
            "K = 21, Average Euclidean Distance = 0.04839127127478455\n",
            "K = 22, Average Euclidean Distance = 0.04623038525858659\n",
            "K = 23, Average Euclidean Distance = 0.043247671694624255\n",
            "K = 24, Average Euclidean Distance = 0.040934691288118503\n",
            "K = 25, Average Euclidean Distance = 0.03775086986277445\n",
            "K = 26, Average Euclidean Distance = 0.035694671770597076\n",
            "K = 27, Average Euclidean Distance = 0.0320636946064555\n",
            "K = 28, Average Euclidean Distance = 0.028292249419748505\n",
            "K = 29, Average Euclidean Distance = 0.025158384798397476\n",
            "K = 30, Average Euclidean Distance = 0.021929586088726992\n",
            "K = 31, Average Euclidean Distance = 0.019963394729946918\n",
            "Ideal K value based on elbow method: 1\n"
          ]
        },
        {
          "output_type": "stream",
          "name": "stderr",
          "text": [
            "/usr/local/lib/python3.10/dist-packages/sklearn/cluster/_kmeans.py:870: FutureWarning: The default value of `n_init` will change from 10 to 'auto' in 1.4. Set the value of `n_init` explicitly to suppress the warning\n",
            "  warnings.warn(\n",
            "/usr/local/lib/python3.10/dist-packages/sklearn/cluster/_kmeans.py:870: FutureWarning: The default value of `n_init` will change from 10 to 'auto' in 1.4. Set the value of `n_init` explicitly to suppress the warning\n",
            "  warnings.warn(\n"
          ]
        }
      ]
    },
    {
      "cell_type": "code",
      "source": [],
      "metadata": {
        "id": "tyZkucf7Jwzp"
      },
      "execution_count": null,
      "outputs": []
    }
  ]
}