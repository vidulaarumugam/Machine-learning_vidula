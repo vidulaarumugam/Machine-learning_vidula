{
  "nbformat": 4,
  "nbformat_minor": 0,
  "metadata": {
    "colab": {
      "provenance": [],
      "authorship_tag": "ABX9TyMl6n8TEQ02F2KBqkZx3Yp0",
      "include_colab_link": true
    },
    "kernelspec": {
      "name": "python3",
      "display_name": "Python 3"
    },
    "language_info": {
      "name": "python"
    }
  },
  "cells": [
    {
      "cell_type": "markdown",
      "metadata": {
        "id": "view-in-github",
        "colab_type": "text"
      },
      "source": [
        "<a href=\"https://colab.research.google.com/github/vidulaarumugam/Machine-learning_vidula/blob/main/lab9_10.ipynb\" target=\"_parent\"><img src=\"https://colab.research.google.com/assets/colab-badge.svg\" alt=\"Open In Colab\"/></a>"
      ]
    },
    {
      "cell_type": "code",
      "source": [
        "\n",
        "import pandas as pd\n",
        "from sklearn.cluster import KMeans\n",
        "from sklearn.preprocessing import LabelEncoder\n",
        "import matplotlib.pyplot as plt\n",
        "from sklearn.cluster import AgglomerativeClustering\n",
        "from scipy.cluster.hierarchy import dendrogram, linkage\n",
        "from sklearn.datasets import make_classification\n",
        "from sklearn.model_selection import train_test_split\n",
        "from sklearn.linear_model import LogisticRegression\n",
        "from sklearn.metrics import accuracy_score\n",
        "from mlxtend.feature_selection import SequentialFeatureSelector\n",
        "from sklearn.datasets import make_classification\n",
        "from sklearn.decomposition import PCA\n",
        "import numpy as np"
      ],
      "metadata": {
        "id": "3q0acg3W_w5O"
      },
      "execution_count": 2,
      "outputs": []
    },
    {
      "cell_type": "code",
      "execution_count": 7,
      "metadata": {
        "colab": {
          "base_uri": "https://localhost:8080/"
        },
        "id": "zYXkC7Ht8HjN",
        "outputId": "41d40379-db38-44ea-f968-b59af1523182"
      },
      "outputs": [
        {
          "output_type": "stream",
          "name": "stdout",
          "text": [
            "   output\n",
            "0     0.0\n",
            "1     0.0\n",
            "2     0.0\n",
            "3     0.0\n",
            "4     0.0\n"
          ]
        },
        {
          "output_type": "stream",
          "name": "stderr",
          "text": [
            "/usr/local/lib/python3.10/dist-packages/sklearn/cluster/_kmeans.py:870: FutureWarning: The default value of `n_init` will change from 10 to 'auto' in 1.4. Set the value of `n_init` explicitly to suppress the warning\n",
            "  warnings.warn(\n"
          ]
        },
        {
          "output_type": "stream",
          "name": "stdout",
          "text": [
            "                                            Equation  output  cluster\n",
            "0  px2+px+k=0 \\n7((-5)2-5)+k=0\\n 7(25-5)+k=0\\n140...     0.0        2\n",
            "1  X= - b ± √b2 – 4ac/2a\\t\\nx=  - 3 ± √(3)2 -4(4)...     0.0        2\n",
            "2  x2 + kx + 64=0 \\nx - 8x +k =0 \\nb - 4ac>= 0\\n ...     0.0        2\n",
            "3  \"X=- b ± squareroot(b^2-4ac) /2a\\n X= - (-2√2)...     0.0        2\n",
            "4  X= -(-2√2)±√((2√2)^2+4(√(3 ))(2√3) )\\n\\n=2√2±√...     0.0        2\n"
          ]
        }
      ],
      "source": [
        "# Merge train and test datasets\n",
        "df_train =pd.read_excel('training (2).xlsx')\n",
        "df_test =pd.read_excel('testing (2).xlsx')\n",
        "df_combined = pd.concat([df_train, df_test], ignore_index=True)\n",
        "# Remove class labels\n",
        "features = df_combined.drop('Equation', axis=1)\n",
        "print(features.head())\n",
        "\n",
        "\n",
        "# Initialize KMeans with the desired number of clusters (k=3 or k=5)\n",
        "kmeans = KMeans(n_clusters=5)  # You can change the value here to try different numbers of clusters\n",
        "\n",
        "# Fit KMeans to your data\n",
        "kmeans.fit(features)\n",
        "\n",
        "# Get cluster labels for each sample\n",
        "cluster_labels = kmeans.labels_\n",
        "\n",
        "# Add cluster labels to your combined dataset\n",
        "df_combined['cluster'] = cluster_labels\n",
        "\n",
        "# Check the updated dataset with cluster labels\n",
        "print(df_combined.head())\n"
      ]
    },
    {
      "cell_type": "code",
      "source": [
        "from sklearn.cluster import KMeans\n",
        "import numpy as np\n",
        "\n",
        "# Assuming df_combined contains your combined dataset without class labels\n",
        "\n",
        "# Remove any non-numeric columns if necessary\n",
        "numeric_data = df_combined.select_dtypes(include=['float64', 'int64'])\n",
        "\n",
        "# Empty list to hold average distances\n",
        "avg_distances = []\n",
        "\n",
        "# Testing k values from 1 to 31\n",
        "k_values = range(1, 32)\n",
        "\n",
        "for k in k_values:\n",
        "    kmeans = KMeans(n_clusters=k, random_state=42)\n",
        "    kmeans.fit(numeric_data)\n",
        "    avg_distances.append(np.sqrt(kmeans.inertia_ / numeric_data.shape[0]))  # Calculate average distance\n",
        "\n",
        "# Calculate differences in average distances to find the elbow point\n",
        "differences = np.diff(avg_distances)\n",
        "\n",
        "# Finding the elbow point where the rate of decrease slows down\n",
        "elbow_point = np.argmin(differences) + 1  # Adding 1 to account for zero-based indexing\n",
        "\n",
        "# Print average distances for each k\n",
        "for k, avg_dist in zip(k_values, avg_distances):\n",
        "    print(f\"K = {k}, Average Euclidean Distance = {avg_dist}\")\n",
        "\n",
        "# Print the ideal k value based on the elbow method\n",
        "print(f\"Ideal K value based on elbow method: {elbow_point}\")\n"
      ],
      "metadata": {
        "colab": {
          "base_uri": "https://localhost:8080/"
        },
        "id": "gUFbvkI8BcSl",
        "outputId": "6177bd6e-9fc4-4ccf-c826-e8f96b6f049b"
      },
      "execution_count": 8,
      "outputs": [
        {
          "output_type": "stream",
          "name": "stderr",
          "text": [
            "/usr/local/lib/python3.10/dist-packages/sklearn/cluster/_kmeans.py:870: FutureWarning: The default value of `n_init` will change from 10 to 'auto' in 1.4. Set the value of `n_init` explicitly to suppress the warning\n",
            "  warnings.warn(\n",
            "/usr/local/lib/python3.10/dist-packages/sklearn/cluster/_kmeans.py:870: FutureWarning: The default value of `n_init` will change from 10 to 'auto' in 1.4. Set the value of `n_init` explicitly to suppress the warning\n",
            "  warnings.warn(\n",
            "/usr/local/lib/python3.10/dist-packages/sklearn/cluster/_kmeans.py:870: FutureWarning: The default value of `n_init` will change from 10 to 'auto' in 1.4. Set the value of `n_init` explicitly to suppress the warning\n",
            "  warnings.warn(\n",
            "/usr/local/lib/python3.10/dist-packages/sklearn/cluster/_kmeans.py:870: FutureWarning: The default value of `n_init` will change from 10 to 'auto' in 1.4. Set the value of `n_init` explicitly to suppress the warning\n",
            "  warnings.warn(\n",
            "/usr/local/lib/python3.10/dist-packages/sklearn/cluster/_kmeans.py:870: FutureWarning: The default value of `n_init` will change from 10 to 'auto' in 1.4. Set the value of `n_init` explicitly to suppress the warning\n",
            "  warnings.warn(\n",
            "/usr/local/lib/python3.10/dist-packages/sklearn/cluster/_kmeans.py:870: FutureWarning: The default value of `n_init` will change from 10 to 'auto' in 1.4. Set the value of `n_init` explicitly to suppress the warning\n",
            "  warnings.warn(\n",
            "/usr/local/lib/python3.10/dist-packages/sklearn/cluster/_kmeans.py:870: FutureWarning: The default value of `n_init` will change from 10 to 'auto' in 1.4. Set the value of `n_init` explicitly to suppress the warning\n",
            "  warnings.warn(\n",
            "/usr/local/lib/python3.10/dist-packages/sklearn/cluster/_kmeans.py:870: FutureWarning: The default value of `n_init` will change from 10 to 'auto' in 1.4. Set the value of `n_init` explicitly to suppress the warning\n",
            "  warnings.warn(\n",
            "/usr/local/lib/python3.10/dist-packages/sklearn/cluster/_kmeans.py:870: FutureWarning: The default value of `n_init` will change from 10 to 'auto' in 1.4. Set the value of `n_init` explicitly to suppress the warning\n",
            "  warnings.warn(\n",
            "/usr/local/lib/python3.10/dist-packages/sklearn/cluster/_kmeans.py:870: FutureWarning: The default value of `n_init` will change from 10 to 'auto' in 1.4. Set the value of `n_init` explicitly to suppress the warning\n",
            "  warnings.warn(\n",
            "/usr/local/lib/python3.10/dist-packages/sklearn/cluster/_kmeans.py:870: FutureWarning: The default value of `n_init` will change from 10 to 'auto' in 1.4. Set the value of `n_init` explicitly to suppress the warning\n",
            "  warnings.warn(\n",
            "/usr/local/lib/python3.10/dist-packages/sklearn/cluster/_kmeans.py:870: FutureWarning: The default value of `n_init` will change from 10 to 'auto' in 1.4. Set the value of `n_init` explicitly to suppress the warning\n",
            "  warnings.warn(\n",
            "/usr/local/lib/python3.10/dist-packages/sklearn/cluster/_kmeans.py:870: FutureWarning: The default value of `n_init` will change from 10 to 'auto' in 1.4. Set the value of `n_init` explicitly to suppress the warning\n",
            "  warnings.warn(\n",
            "/usr/local/lib/python3.10/dist-packages/sklearn/cluster/_kmeans.py:870: FutureWarning: The default value of `n_init` will change from 10 to 'auto' in 1.4. Set the value of `n_init` explicitly to suppress the warning\n",
            "  warnings.warn(\n",
            "/usr/local/lib/python3.10/dist-packages/sklearn/cluster/_kmeans.py:870: FutureWarning: The default value of `n_init` will change from 10 to 'auto' in 1.4. Set the value of `n_init` explicitly to suppress the warning\n",
            "  warnings.warn(\n",
            "/usr/local/lib/python3.10/dist-packages/sklearn/cluster/_kmeans.py:870: FutureWarning: The default value of `n_init` will change from 10 to 'auto' in 1.4. Set the value of `n_init` explicitly to suppress the warning\n",
            "  warnings.warn(\n",
            "/usr/local/lib/python3.10/dist-packages/sklearn/cluster/_kmeans.py:870: FutureWarning: The default value of `n_init` will change from 10 to 'auto' in 1.4. Set the value of `n_init` explicitly to suppress the warning\n",
            "  warnings.warn(\n",
            "/usr/local/lib/python3.10/dist-packages/sklearn/cluster/_kmeans.py:870: FutureWarning: The default value of `n_init` will change from 10 to 'auto' in 1.4. Set the value of `n_init` explicitly to suppress the warning\n",
            "  warnings.warn(\n",
            "/usr/local/lib/python3.10/dist-packages/sklearn/cluster/_kmeans.py:870: FutureWarning: The default value of `n_init` will change from 10 to 'auto' in 1.4. Set the value of `n_init` explicitly to suppress the warning\n",
            "  warnings.warn(\n",
            "/usr/local/lib/python3.10/dist-packages/sklearn/cluster/_kmeans.py:870: FutureWarning: The default value of `n_init` will change from 10 to 'auto' in 1.4. Set the value of `n_init` explicitly to suppress the warning\n",
            "  warnings.warn(\n",
            "/usr/local/lib/python3.10/dist-packages/sklearn/cluster/_kmeans.py:870: FutureWarning: The default value of `n_init` will change from 10 to 'auto' in 1.4. Set the value of `n_init` explicitly to suppress the warning\n",
            "  warnings.warn(\n",
            "/usr/local/lib/python3.10/dist-packages/sklearn/cluster/_kmeans.py:870: FutureWarning: The default value of `n_init` will change from 10 to 'auto' in 1.4. Set the value of `n_init` explicitly to suppress the warning\n",
            "  warnings.warn(\n",
            "/usr/local/lib/python3.10/dist-packages/sklearn/cluster/_kmeans.py:870: FutureWarning: The default value of `n_init` will change from 10 to 'auto' in 1.4. Set the value of `n_init` explicitly to suppress the warning\n",
            "  warnings.warn(\n",
            "/usr/local/lib/python3.10/dist-packages/sklearn/cluster/_kmeans.py:870: FutureWarning: The default value of `n_init` will change from 10 to 'auto' in 1.4. Set the value of `n_init` explicitly to suppress the warning\n",
            "  warnings.warn(\n",
            "/usr/local/lib/python3.10/dist-packages/sklearn/cluster/_kmeans.py:870: FutureWarning: The default value of `n_init` will change from 10 to 'auto' in 1.4. Set the value of `n_init` explicitly to suppress the warning\n",
            "  warnings.warn(\n",
            "/usr/local/lib/python3.10/dist-packages/sklearn/cluster/_kmeans.py:870: FutureWarning: The default value of `n_init` will change from 10 to 'auto' in 1.4. Set the value of `n_init` explicitly to suppress the warning\n",
            "  warnings.warn(\n",
            "/usr/local/lib/python3.10/dist-packages/sklearn/cluster/_kmeans.py:870: FutureWarning: The default value of `n_init` will change from 10 to 'auto' in 1.4. Set the value of `n_init` explicitly to suppress the warning\n",
            "  warnings.warn(\n",
            "/usr/local/lib/python3.10/dist-packages/sklearn/cluster/_kmeans.py:870: FutureWarning: The default value of `n_init` will change from 10 to 'auto' in 1.4. Set the value of `n_init` explicitly to suppress the warning\n",
            "  warnings.warn(\n",
            "/usr/local/lib/python3.10/dist-packages/sklearn/cluster/_kmeans.py:870: FutureWarning: The default value of `n_init` will change from 10 to 'auto' in 1.4. Set the value of `n_init` explicitly to suppress the warning\n",
            "  warnings.warn(\n",
            "/usr/local/lib/python3.10/dist-packages/sklearn/cluster/_kmeans.py:870: FutureWarning: The default value of `n_init` will change from 10 to 'auto' in 1.4. Set the value of `n_init` explicitly to suppress the warning\n",
            "  warnings.warn(\n",
            "/usr/local/lib/python3.10/dist-packages/sklearn/cluster/_kmeans.py:870: FutureWarning: The default value of `n_init` will change from 10 to 'auto' in 1.4. Set the value of `n_init` explicitly to suppress the warning\n",
            "  warnings.warn(\n"
          ]
        },
        {
          "output_type": "stream",
          "name": "stdout",
          "text": [
            "K = 1, Average Euclidean Distance = 1.1984342981172293\n",
            "K = 2, Average Euclidean Distance = 0.6800505556479636\n",
            "K = 3, Average Euclidean Distance = 0.4653669421204348\n",
            "K = 4, Average Euclidean Distance = 0.3399161792589594\n",
            "K = 5, Average Euclidean Distance = 0.27303690309050327\n",
            "K = 6, Average Euclidean Distance = 0.22722025633209894\n",
            "K = 7, Average Euclidean Distance = 0.19687772280573587\n",
            "K = 8, Average Euclidean Distance = 0.16729258072494765\n",
            "K = 9, Average Euclidean Distance = 0.1450588259054069\n",
            "K = 10, Average Euclidean Distance = 0.1334109494289805\n",
            "K = 11, Average Euclidean Distance = 0.12076006151871746\n",
            "K = 12, Average Euclidean Distance = 0.10962615902921821\n",
            "K = 13, Average Euclidean Distance = 0.09820800866327521\n",
            "K = 14, Average Euclidean Distance = 0.0890377904741441\n",
            "K = 15, Average Euclidean Distance = 0.08152982844356811\n",
            "K = 16, Average Euclidean Distance = 0.07115779616528851\n",
            "K = 17, Average Euclidean Distance = 0.06204949877307439\n",
            "K = 18, Average Euclidean Distance = 0.058535232775081554\n",
            "K = 19, Average Euclidean Distance = 0.05531073775550773\n",
            "K = 20, Average Euclidean Distance = 0.05138239332954527\n",
            "K = 21, Average Euclidean Distance = 0.04839127127478455\n",
            "K = 22, Average Euclidean Distance = 0.04623038525858659\n",
            "K = 23, Average Euclidean Distance = 0.043247671694624255\n",
            "K = 24, Average Euclidean Distance = 0.040934691288118503\n",
            "K = 25, Average Euclidean Distance = 0.03775086986277445\n",
            "K = 26, Average Euclidean Distance = 0.035694671770597076\n",
            "K = 27, Average Euclidean Distance = 0.0320636946064555\n",
            "K = 28, Average Euclidean Distance = 0.028292249419748505\n",
            "K = 29, Average Euclidean Distance = 0.025158384798397476\n",
            "K = 30, Average Euclidean Distance = 0.021929586088726992\n",
            "K = 31, Average Euclidean Distance = 0.019963394729946918\n",
            "Ideal K value based on elbow method: 1\n"
          ]
        }
      ]
    },
    {
      "cell_type": "code",
      "source": [
        "\n",
        "\n",
        "# Perform hierarchical clustering\n",
        "model = AgglomerativeClustering(distance_threshold=0, n_clusters=None)  # distance_threshold=0 for full dendrogram\n",
        "clusters = model.fit_predict(numeric_data)\n",
        "\n",
        "# Create linkage matrix for dendrogram\n",
        "linkage_matrix = linkage(numeric_data, method='ward')  # You can change the linkage method as needed\n",
        "\n",
        "# Plot dendrogram\n",
        "plt.figure(figsize=(12, 8))\n",
        "dendrogram(linkage_matrix)\n",
        "plt.title('Hierarchical Clustering Dendrogram')\n",
        "plt.xlabel('Sample Index')\n",
        "plt.ylabel('Distance')\n",
        "plt.show()\n"
      ],
      "metadata": {
        "colab": {
          "base_uri": "https://localhost:8080/",
          "height": 621
        },
        "id": "tyZkucf7Jwzp",
        "outputId": "6ff3dfc2-b9dd-4256-82fa-c25495e1ae4b"
      },
      "execution_count": 9,
      "outputs": [
        {
          "output_type": "display_data",
          "data": {
            "text/plain": [
              "<Figure size 1200x800 with 1 Axes>"
            ],
            "image/png": "[encoded data removed]"
          },
          "metadata": {}
        }
      ]
    },
    {
      "cell_type": "code",
      "source": [
        "data = pd.read_excel('t5_train (1).xlsx')\n",
        "\n",
        "num_bins=4\n",
        "# Assuming the last column is the target/label column\n",
        "data['embed_1_b'] = pd.cut(data['embed_1'], num_bins)\n",
        "data['embed_12_b'] = pd.cut(data['embed_12'], num_bins)\n",
        "#for one class\n",
        "X = data['embed_1']\n",
        "y = data['embed_12']\n",
        "X = X.values.reshape(-1, 1)\n",
        "y = y.values.reshape(-1, 1)\n",
        "X_train, X_test, y_train, y_test = train_test_split(X, y, test_size=0.2, random_state=42)\n",
        "label_encoder = LabelEncoder()\n",
        "X_train_encoded = label_encoder.fit_transform(X_train)\n",
        "y_train_encoded = label_encoder.fit_transform(y_train)\n",
        "X_test_encoded = label_encoder.fit_transform(X_test)\n",
        "X_test_encoded=X_train_encoded.reshape(-1, 1)\n",
        "y_test_encoded = label_encoder.fit_transform(y_test)\n",
        "y_test_encoded=y_train_encoded.reshape(-1, 1)\n",
        "X_train_encoded=X_train_encoded.reshape(-1, 1)\n",
        "y_train_encoded= y_train_encoded.reshape(-1, 1)\n",
        "model = LogisticRegression()\n",
        "\n",
        "# Perform Forward Selection\n",
        "sfs = SequentialFeatureSelector(model, forward=True, k_features='best', scoring='accuracy', cv=5)\n",
        "sfs.fit(X_train_encoded, y_train_encoded)\n",
        "\n",
        "# Get the selected feature indices\n",
        "selected_feature_indices = sfs.k_feature_idx_\n",
        "\n",
        "# Select the same features for both training and testing sets\n",
        "X_train_selected = sfs.transform(X_train_encoded)\n",
        "X_test_selected = sfs.transform(X_test_encoded)\n",
        "\n",
        "# Train the model using the selected features\n",
        "model.fit(X_train_selected, y_train_encoded)\n",
        "\n",
        "# Predict using the selected features on the test set\n",
        "y_pred = model.predict(X_test_selected)\n",
        "accuracy = accuracy_score(y_test_encoded, y_pred)\n",
        "print(f\"Accuracy with selected features: {accuracy}\")"
      ],
      "metadata": {
        "id": "1Yz4z2utKt6-",
        "colab": {
          "base_uri": "https://localhost:8080/"
        },
        "outputId": "35eff8fd-0ed1-44f0-d267-da1de283b4f8"
      },
      "execution_count": 10,
      "outputs": [
        {
          "output_type": "stream",
          "name": "stderr",
          "text": [
            "/usr/local/lib/python3.10/dist-packages/sklearn/preprocessing/_label.py:116: DataConversionWarning: A column-vector y was passed when a 1d array was expected. Please change the shape of y to (n_samples, ), for example using ravel().\n",
            "  y = column_or_1d(y, warn=True)\n",
            "/usr/local/lib/python3.10/dist-packages/sklearn/preprocessing/_label.py:116: DataConversionWarning: A column-vector y was passed when a 1d array was expected. Please change the shape of y to (n_samples, ), for example using ravel().\n",
            "  y = column_or_1d(y, warn=True)\n",
            "/usr/local/lib/python3.10/dist-packages/sklearn/preprocessing/_label.py:116: DataConversionWarning: A column-vector y was passed when a 1d array was expected. Please change the shape of y to (n_samples, ), for example using ravel().\n",
            "  y = column_or_1d(y, warn=True)\n",
            "/usr/local/lib/python3.10/dist-packages/sklearn/preprocessing/_label.py:116: DataConversionWarning: A column-vector y was passed when a 1d array was expected. Please change the shape of y to (n_samples, ), for example using ravel().\n",
            "  y = column_or_1d(y, warn=True)\n",
            "/usr/local/lib/python3.10/dist-packages/sklearn/model_selection/_split.py:700: UserWarning: The least populated class in y has only 1 members, which is less than n_splits=5.\n",
            "  warnings.warn(\n",
            "/usr/local/lib/python3.10/dist-packages/sklearn/utils/validation.py:1143: DataConversionWarning: A column-vector y was passed when a 1d array was expected. Please change the shape of y to (n_samples, ), for example using ravel().\n",
            "  y = column_or_1d(y, warn=True)\n",
            "/usr/local/lib/python3.10/dist-packages/sklearn/linear_model/_logistic.py:458: ConvergenceWarning: lbfgs failed to converge (status=1):\n",
            "STOP: TOTAL NO. of ITERATIONS REACHED LIMIT.\n",
            "\n",
            "Increase the number of iterations (max_iter) or scale the data as shown in:\n",
            "    https://scikit-learn.org/stable/modules/preprocessing.html\n",
            "Please also refer to the documentation for alternative solver options:\n",
            "    https://scikit-learn.org/stable/modules/linear_model.html#logistic-regression\n",
            "  n_iter_i = _check_optimize_result(\n",
            "/usr/local/lib/python3.10/dist-packages/sklearn/utils/validation.py:1143: DataConversionWarning: A column-vector y was passed when a 1d array was expected. Please change the shape of y to (n_samples, ), for example using ravel().\n",
            "  y = column_or_1d(y, warn=True)\n",
            "/usr/local/lib/python3.10/dist-packages/sklearn/linear_model/_logistic.py:458: ConvergenceWarning: lbfgs failed to converge (status=1):\n",
            "STOP: TOTAL NO. of ITERATIONS REACHED LIMIT.\n",
            "\n",
            "Increase the number of iterations (max_iter) or scale the data as shown in:\n",
            "    https://scikit-learn.org/stable/modules/preprocessing.html\n",
            "Please also refer to the documentation for alternative solver options:\n",
            "    https://scikit-learn.org/stable/modules/linear_model.html#logistic-regression\n",
            "  n_iter_i = _check_optimize_result(\n",
            "/usr/local/lib/python3.10/dist-packages/sklearn/utils/validation.py:1143: DataConversionWarning: A column-vector y was passed when a 1d array was expected. Please change the shape of y to (n_samples, ), for example using ravel().\n",
            "  y = column_or_1d(y, warn=True)\n",
            "/usr/local/lib/python3.10/dist-packages/sklearn/linear_model/_logistic.py:458: ConvergenceWarning: lbfgs failed to converge (status=1):\n",
            "STOP: TOTAL NO. of ITERATIONS REACHED LIMIT.\n",
            "\n",
            "Increase the number of iterations (max_iter) or scale the data as shown in:\n",
            "    https://scikit-learn.org/stable/modules/preprocessing.html\n",
            "Please also refer to the documentation for alternative solver options:\n",
            "    https://scikit-learn.org/stable/modules/linear_model.html#logistic-regression\n",
            "  n_iter_i = _check_optimize_result(\n",
            "/usr/local/lib/python3.10/dist-packages/sklearn/utils/validation.py:1143: DataConversionWarning: A column-vector y was passed when a 1d array was expected. Please change the shape of y to (n_samples, ), for example using ravel().\n",
            "  y = column_or_1d(y, warn=True)\n",
            "/usr/local/lib/python3.10/dist-packages/sklearn/linear_model/_logistic.py:458: ConvergenceWarning: lbfgs failed to converge (status=1):\n",
            "STOP: TOTAL NO. of ITERATIONS REACHED LIMIT.\n",
            "\n",
            "Increase the number of iterations (max_iter) or scale the data as shown in:\n",
            "    https://scikit-learn.org/stable/modules/preprocessing.html\n",
            "Please also refer to the documentation for alternative solver options:\n",
            "    https://scikit-learn.org/stable/modules/linear_model.html#logistic-regression\n",
            "  n_iter_i = _check_optimize_result(\n",
            "/usr/local/lib/python3.10/dist-packages/sklearn/utils/validation.py:1143: DataConversionWarning: A column-vector y was passed when a 1d array was expected. Please change the shape of y to (n_samples, ), for example using ravel().\n",
            "  y = column_or_1d(y, warn=True)\n",
            "/usr/local/lib/python3.10/dist-packages/sklearn/linear_model/_logistic.py:458: ConvergenceWarning: lbfgs failed to converge (status=1):\n",
            "STOP: TOTAL NO. of ITERATIONS REACHED LIMIT.\n",
            "\n",
            "Increase the number of iterations (max_iter) or scale the data as shown in:\n",
            "    https://scikit-learn.org/stable/modules/preprocessing.html\n",
            "Please also refer to the documentation for alternative solver options:\n",
            "    https://scikit-learn.org/stable/modules/linear_model.html#logistic-regression\n",
            "  n_iter_i = _check_optimize_result(\n",
            "/usr/local/lib/python3.10/dist-packages/sklearn/utils/validation.py:1143: DataConversionWarning: A column-vector y was passed when a 1d array was expected. Please change the shape of y to (n_samples, ), for example using ravel().\n",
            "  y = column_or_1d(y, warn=True)\n"
          ]
        },
        {
          "output_type": "stream",
          "name": "stdout",
          "text": [
            "Accuracy with selected features: 0.01220865704772475\n"
          ]
        },
        {
          "output_type": "stream",
          "name": "stderr",
          "text": [
            "/usr/local/lib/python3.10/dist-packages/sklearn/linear_model/_logistic.py:458: ConvergenceWarning: lbfgs failed to converge (status=1):\n",
            "STOP: TOTAL NO. of ITERATIONS REACHED LIMIT.\n",
            "\n",
            "Increase the number of iterations (max_iter) or scale the data as shown in:\n",
            "    https://scikit-learn.org/stable/modules/preprocessing.html\n",
            "Please also refer to the documentation for alternative solver options:\n",
            "    https://scikit-learn.org/stable/modules/linear_model.html#logistic-regression\n",
            "  n_iter_i = _check_optimize_result(\n"
          ]
        }
      ]
    },
    {
      "cell_type": "code",
      "source": [
        "X, y = make_classification(n_samples=1000, n_features=10, n_informative=5, random_state=42)\n",
        "\n",
        "# Initialize PCA\n",
        "pca = PCA()\n",
        "\n",
        "# Fit PCA on the data\n",
        "pca.fit(X)\n",
        "\n",
        "# Calculate cumulative variance explained by each principal component\n",
        "cumulative_variance = np.cumsum(pca.explained_variance_ratio_)\n",
        "\n",
        "# Identify the number of components needed to capture 95% variance\n",
        "n_components_95 = np.argmax(cumulative_variance >= 0.95) + 1  # Adding 1 to get the actual count\n",
        "\n",
        "print(f\"Number of components to capture 95% variance: {n_components_95}\")"
      ],
      "metadata": {
        "colab": {
          "base_uri": "https://localhost:8080/"
        },
        "id": "TT8LT5JS0_RX",
        "outputId": "130dae8a-4985-47f3-ba1f-5ff8197a5c1e"
      },
      "execution_count": 11,
      "outputs": [
        {
          "output_type": "stream",
          "name": "stdout",
          "text": [
            "Number of components to capture 95% variance: 7\n"
          ]
        }
      ]
    },
    {
      "cell_type": "code",
      "source": [
        "from sklearn.datasets import load_iris\n",
        "from sklearn.model_selection import train_test_split\n",
        "from sklearn.decomposition import KernelPCA\n",
        "from sklearn.svm import SVC\n",
        "from sklearn.metrics import accuracy_score\n",
        "\n",
        "\n",
        "\n",
        "\n",
        "# Perform Kernel PCA for dimensionality reduction\n",
        "kpca = KernelPCA(n_components=3, kernel='rbf')  # You can choose the number of components\n",
        "X_train_transformed = kpca.fit_transform(X_train_encoded)\n",
        "X_test_transformed = kpca.transform(X_test_encoded)\n",
        "\n",
        "# Train a Support Vector Machine (SVM) classifier on the transformed data\n",
        "svm = SVC(kernel='linear')  # You can choose different kernels and hyperparameters\n",
        "svm.fit(X_train_transformed, y_train_encoded)\n",
        "\n",
        "# Predict using the trained model\n",
        "predictions = svm.predict(X_test_transformed)\n",
        "\n",
        "# Calculate accuracy\n",
        "accuracy = accuracy_score(y_test_encoded, predictions)\n",
        "print(f\"Accuracy: {accuracy}\")\n"
      ],
      "metadata": {
        "id": "4nrADFhG8hXw",
        "outputId": "d28f76d7-1baa-4f91-87f9-75775b718940",
        "colab": {
          "base_uri": "https://localhost:8080/"
        }
      },
      "execution_count": 12,
      "outputs": [
        {
          "output_type": "stream",
          "name": "stderr",
          "text": [
            "/usr/local/lib/python3.10/dist-packages/sklearn/utils/validation.py:1143: DataConversionWarning: A column-vector y was passed when a 1d array was expected. Please change the shape of y to (n_samples, ), for example using ravel().\n",
            "  y = column_or_1d(y, warn=True)\n"
          ]
        },
        {
          "output_type": "stream",
          "name": "stdout",
          "text": [
            "Accuracy: 0.021087680355160933\n"
          ]
        }
      ]
    }
  ]
}