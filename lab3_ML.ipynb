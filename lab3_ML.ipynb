{
  "cells": [
    {
      "cell_type": "markdown",
      "metadata": {
        "id": "view-in-github",
        "colab_type": "text"
      },
      "source": [
        "<a href=\"https://colab.research.google.com/github/vidulaarumugam/Machine-learning_vidula/blob/main/lab3_ML.ipynb\" target=\"_parent\"><img src=\"https://colab.research.google.com/assets/colab-badge.svg\" alt=\"Open In Colab\"/></a>"
      ]
    },
    {
      "cell_type": "code",
      "execution_count": null,
      "metadata": {
        "colab": {
          "base_uri": "https://localhost:8080/",
          "height": 73
        },
        "id": "9Fr8ARlmJIWF",
        "outputId": "57a0a7b8-268f-4fa5-ef43-518a0aaf8bda"
      },
      "outputs": [
        {
          "output_type": "display_data",
          "data": {
            "text/plain": [
              "<IPython.core.display.HTML object>"
            ],
            "text/html": [
              "\n",
              "     <input type=\"file\" id=\"files-39a557b0-aad6-43f6-8ec2-63a396e33834\" name=\"files[]\" multiple disabled\n",
              "        style=\"border:none\" />\n",
              "     <output id=\"result-39a557b0-aad6-43f6-8ec2-63a396e33834\">\n",
              "      Upload widget is only available when the cell has been executed in the\n",
              "      current browser session. Please rerun this cell to enable.\n",
              "      </output>\n",
              "      <script>// Copyright 2017 Google LLC\n",
              "//\n",
              "// Licensed under the Apache License, Version 2.0 (the \"License\");\n",
              "// you may not use this file except in compliance with the License.\n",
              "// You may obtain a copy of the License at\n",
              "//\n",
              "//      http://www.apache.org/licenses/LICENSE-2.0\n",
              "//\n",
              "// Unless required by applicable law or agreed to in writing, software\n",
              "// distributed under the License is distributed on an \"AS IS\" BASIS,\n",
              "// WITHOUT WARRANTIES OR CONDITIONS OF ANY KIND, either express or implied.\n",
              "// See the License for the specific language governing permissions and\n",
              "// limitations under the License.\n",
              "\n",
              "/**\n",
              " * @fileoverview Helpers for google.colab Python module.\n",
              " */\n",
              "(function(scope) {\n",
              "function span(text, styleAttributes = {}) {\n",
              "  const element = document.createElement('span');\n",
              "  element.textContent = text;\n",
              "  for (const key of Object.keys(styleAttributes)) {\n",
              "    element.style[key] = styleAttributes[key];\n",
              "  }\n",
              "  return element;\n",
              "}\n",
              "\n",
              "// Max number of bytes which will be uploaded at a time.\n",
              "const MAX_PAYLOAD_SIZE = 100 * 1024;\n",
              "\n",
              "function _uploadFiles(inputId, outputId) {\n",
              "  const steps = uploadFilesStep(inputId, outputId);\n",
              "  const outputElement = document.getElementById(outputId);\n",
              "  // Cache steps on the outputElement to make it available for the next call\n",
              "  // to uploadFilesContinue from Python.\n",
              "  outputElement.steps = steps;\n",
              "\n",
              "  return _uploadFilesContinue(outputId);\n",
              "}\n",
              "\n",
              "// This is roughly an async generator (not supported in the browser yet),\n",
              "// where there are multiple asynchronous steps and the Python side is going\n",
              "// to poll for completion of each step.\n",
              "// This uses a Promise to block the python side on completion of each step,\n",
              "// then passes the result of the previous step as the input to the next step.\n",
              "function _uploadFilesContinue(outputId) {\n",
              "  const outputElement = document.getElementById(outputId);\n",
              "  const steps = outputElement.steps;\n",
              "\n",
              "  const next = steps.next(outputElement.lastPromiseValue);\n",
              "  return Promise.resolve(next.value.promise).then((value) => {\n",
              "    // Cache the last promise value to make it available to the next\n",
              "    // step of the generator.\n",
              "    outputElement.lastPromiseValue = value;\n",
              "    return next.value.response;\n",
              "  });\n",
              "}\n",
              "\n",
              "/**\n",
              " * Generator function which is called between each async step of the upload\n",
              " * process.\n",
              " * @param {string} inputId Element ID of the input file picker element.\n",
              " * @param {string} outputId Element ID of the output display.\n",
              " * @return {!Iterable<!Object>} Iterable of next steps.\n",
              " */\n",
              "function* uploadFilesStep(inputId, outputId) {\n",
              "  const inputElement = document.getElementById(inputId);\n",
              "  inputElement.disabled = false;\n",
              "\n",
              "  const outputElement = document.getElementById(outputId);\n",
              "  outputElement.innerHTML = '';\n",
              "\n",
              "  const pickedPromise = new Promise((resolve) => {\n",
              "    inputElement.addEventListener('change', (e) => {\n",
              "      resolve(e.target.files);\n",
              "    });\n",
              "  });\n",
              "\n",
              "  const cancel = document.createElement('button');\n",
              "  inputElement.parentElement.appendChild(cancel);\n",
              "  cancel.textContent = 'Cancel upload';\n",
              "  const cancelPromise = new Promise((resolve) => {\n",
              "    cancel.onclick = () => {\n",
              "      resolve(null);\n",
              "    };\n",
              "  });\n",
              "\n",
              "  // Wait for the user to pick the files.\n",
              "  const files = yield {\n",
              "    promise: Promise.race([pickedPromise, cancelPromise]),\n",
              "    response: {\n",
              "      action: 'starting',\n",
              "    }\n",
              "  };\n",
              "\n",
              "  cancel.remove();\n",
              "\n",
              "  // Disable the input element since further picks are not allowed.\n",
              "  inputElement.disabled = true;\n",
              "\n",
              "  if (!files) {\n",
              "    return {\n",
              "      response: {\n",
              "        action: 'complete',\n",
              "      }\n",
              "    };\n",
              "  }\n",
              "\n",
              "  for (const file of files) {\n",
              "    const li = document.createElement('li');\n",
              "    li.append(span(file.name, {fontWeight: 'bold'}));\n",
              "    li.append(span(\n",
              "        `(${file.type || 'n/a'}) - ${file.size} bytes, ` +\n",
              "        `last modified: ${\n",
              "            file.lastModifiedDate ? file.lastModifiedDate.toLocaleDateString() :\n",
              "                                    'n/a'} - `));\n",
              "    const percent = span('0% done');\n",
              "    li.appendChild(percent);\n",
              "\n",
              "    outputElement.appendChild(li);\n",
              "\n",
              "    const fileDataPromise = new Promise((resolve) => {\n",
              "      const reader = new FileReader();\n",
              "      reader.onload = (e) => {\n",
              "        resolve(e.target.result);\n",
              "      };\n",
              "      reader.readAsArrayBuffer(file);\n",
              "    });\n",
              "    // Wait for the data to be ready.\n",
              "    let fileData = yield {\n",
              "      promise: fileDataPromise,\n",
              "      response: {\n",
              "        action: 'continue',\n",
              "      }\n",
              "    };\n",
              "\n",
              "    // Use a chunked sending to avoid message size limits. See b/62115660.\n",
              "    let position = 0;\n",
              "    do {\n",
              "      const length = Math.min(fileData.byteLength - position, MAX_PAYLOAD_SIZE);\n",
              "      const chunk = new Uint8Array(fileData, position, length);\n",
              "      position += length;\n",
              "\n",
              "      const base64 = btoa(String.fromCharCode.apply(null, chunk));\n",
              "      yield {\n",
              "        response: {\n",
              "          action: 'append',\n",
              "          file: file.name,\n",
              "          data: base64,\n",
              "        },\n",
              "      };\n",
              "\n",
              "      let percentDone = fileData.byteLength === 0 ?\n",
              "          100 :\n",
              "          Math.round((position / fileData.byteLength) * 100);\n",
              "      percent.textContent = `${percentDone}% done`;\n",
              "\n",
              "    } while (position < fileData.byteLength);\n",
              "  }\n",
              "\n",
              "  // All done.\n",
              "  yield {\n",
              "    response: {\n",
              "      action: 'complete',\n",
              "    }\n",
              "  };\n",
              "}\n",
              "\n",
              "scope.google = scope.google || {};\n",
              "scope.google.colab = scope.google.colab || {};\n",
              "scope.google.colab._files = {\n",
              "  _uploadFiles,\n",
              "  _uploadFilesContinue,\n",
              "};\n",
              "})(self);\n",
              "</script> "
            ]
          },
          "metadata": {}
        },
        {
          "output_type": "stream",
          "name": "stdout",
          "text": [
            "Saving t5_train (1).xlsx to t5_train (1).xlsx\n"
          ]
        }
      ],
      "source": [
        "import numpy as nm\n",
        "import pandas as ps\n",
        "\n",
        "from google.colab import files\n",
        "file = files.upload()"
      ]
    },
    {
      "cell_type": "code",
      "execution_count": null,
      "metadata": {
        "id": "jyvYjgvTs70_"
      },
      "outputs": [],
      "source": [
        "excel = ps.ExcelFile('t5_train (1).xlsx')\n",
        "data = ps.read_excel(excel, 'Sheet1')"
      ]
    },
    {
      "cell_type": "code",
      "execution_count": null,
      "metadata": {
        "id": "SI-G6Q7bzhaj",
        "colab": {
          "base_uri": "https://localhost:8080/"
        },
        "outputId": "28df2354-7d92-4e63-bee7-3800fcfe58f9"
      },
      "outputs": [
        {
          "output_type": "stream",
          "name": "stdout",
          "text": [
            "Class Centroid of class 1:            Unnamed: 0   embed_1   embed_2   embed_3   embed_4   embed_5  \\\n",
            "embed_0                                                                   \n",
            "-0.093720        63.0  0.012538  0.032916  0.000575 -0.011344 -0.005308   \n",
            "-0.093552        62.0  0.005757  0.039849 -0.018698 -0.005316 -0.011103   \n",
            "-0.088469       725.0 -0.010194  0.051124  0.006132 -0.010426 -0.012661   \n",
            "-0.086676       576.0 -0.003028  0.017894  0.025240 -0.012534  0.010928   \n",
            "-0.086598        94.0  0.014755  0.033838  0.003005 -0.016856 -0.003538   \n",
            "...               ...       ...       ...       ...       ...       ...   \n",
            " 0.009432       854.0 -0.022003  0.017973  0.034937 -0.008843  0.021839   \n",
            " 0.009859       810.0 -0.038462  0.008427  0.038733 -0.015636  0.014513   \n",
            " 0.010180      1055.0 -0.011995  0.032084  0.041886 -0.012140  0.014416   \n",
            " 0.012481      1028.0 -0.016168  0.009283  0.029264 -0.001487  0.016737   \n",
            " 0.014936       995.0 -0.016443  0.009737  0.019627 -0.011630  0.015741   \n",
            "\n",
            "            embed_6   embed_7   embed_8   embed_9  ...  embed_758  embed_759  \\\n",
            "embed_0                                            ...                         \n",
            "-0.093720 -0.050414  0.065593  0.002721 -0.016375  ...  -0.005378   0.012650   \n",
            "-0.093552 -0.046268  0.053539  0.017804 -0.018883  ...  -0.002908   0.000817   \n",
            "-0.088469 -0.046834  0.063496  0.007760 -0.028766  ...  -0.021073  -0.013415   \n",
            "-0.086676 -0.052234  0.069560 -0.001968 -0.026125  ...   0.003462   0.018242   \n",
            "-0.086598 -0.052738  0.065672  0.002588 -0.017327  ...  -0.006768   0.011961   \n",
            "...             ...       ...       ...       ...  ...        ...        ...   \n",
            " 0.009432 -0.055161  0.030038  0.025619 -0.021641  ...  -0.066081  -0.000310   \n",
            " 0.009859 -0.027761  0.037463  0.005893 -0.004479  ...  -0.042530   0.004507   \n",
            " 0.010180 -0.044140  0.034116  0.021652 -0.031314  ...  -0.052447  -0.018572   \n",
            " 0.012481 -0.031426  0.031455  0.012425 -0.008035  ...  -0.039429   0.011443   \n",
            " 0.014936 -0.039894  0.034322  0.033328 -0.022339  ...  -0.059680  -0.011449   \n",
            "\n",
            "           embed_760  embed_761  embed_762  embed_763  embed_764  embed_765  \\\n",
            "embed_0                                                                       \n",
            "-0.093720  -0.034913  -0.008716   0.018226   0.046040  -0.013001  -0.020432   \n",
            "-0.093552  -0.044520  -0.012475   0.012003   0.038778  -0.015850  -0.017855   \n",
            "-0.088469  -0.026481  -0.036954   0.016954   0.028587   0.011595  -0.022038   \n",
            "-0.086676  -0.046419  -0.007570   0.004300   0.031977   0.006207  -0.029042   \n",
            "-0.086598  -0.035196  -0.009235   0.017364   0.045085  -0.013223  -0.017153   \n",
            "...              ...        ...        ...        ...        ...        ...   \n",
            " 0.009432  -0.036531  -0.066555   0.037151   0.029526   0.020378   0.027557   \n",
            " 0.009859  -0.028246  -0.083583   0.013335   0.057472   0.000508   0.014336   \n",
            " 0.010180  -0.042337  -0.059384   0.022794   0.033899   0.016523   0.040451   \n",
            " 0.012481  -0.022711  -0.087116   0.016264   0.065577   0.004034   0.016983   \n",
            " 0.014936  -0.044623  -0.064116   0.024272   0.023525   0.011969   0.026245   \n",
            "\n",
            "           embed_766  embed_767  \n",
            "embed_0                          \n",
            "-0.093720  -0.045446   0.025113  \n",
            "-0.093552  -0.044756   0.022483  \n",
            "-0.088469  -0.028475   0.023383  \n",
            "-0.086676  -0.041071   0.012930  \n",
            "-0.086598  -0.034677   0.022214  \n",
            "...              ...        ...  \n",
            " 0.009432   0.001017  -0.009251  \n",
            " 0.009859  -0.005929   0.009647  \n",
            " 0.010180   0.012613  -0.015420  \n",
            " 0.012481  -0.015403   0.003047  \n",
            " 0.014936  -0.011314  -0.005291  \n",
            "\n",
            "[1031 rows x 768 columns]\n",
            "Class Centroid of class 2:            Unnamed: 0   embed_0   embed_1   embed_2   embed_3   embed_4  \\\n",
            "embed_5                                                                   \n",
            "-0.020781       414.0 -0.080228 -0.019578  0.056584 -0.018163 -0.002695   \n",
            "-0.019365         5.0 -0.033412 -0.012130  0.039933  0.015737 -0.005616   \n",
            "-0.018351         6.0 -0.054741 -0.016598  0.032608  0.008815 -0.017691   \n",
            "-0.018287       796.0 -0.036743 -0.011987  0.030653  0.017197 -0.016899   \n",
            "-0.018282       549.0 -0.040812 -0.008860  0.021823  0.033075 -0.019098   \n",
            "...               ...       ...       ...       ...       ...       ...   \n",
            " 0.048249       954.0 -0.020991 -0.006748  0.053380  0.019287  0.002218   \n",
            " 0.050634       955.0 -0.020734 -0.006410  0.052335  0.018385  0.000006   \n",
            " 0.051469       952.0 -0.024764 -0.005083  0.048599  0.017865  0.001947   \n",
            " 0.052276      1015.0 -0.023572 -0.006287  0.054052  0.024490  0.004761   \n",
            " 0.055745       949.0 -0.033102 -0.007634  0.030272  0.012436  0.009405   \n",
            "\n",
            "            embed_6   embed_7   embed_8   embed_9  ...  embed_758  embed_759  \\\n",
            "embed_5                                            ...                         \n",
            "-0.020781 -0.056768  0.065594  0.018500 -0.016072  ...  -0.012987   0.013043   \n",
            "-0.019365 -0.025016  0.071817  0.048147 -0.022247  ...   0.008257   0.026873   \n",
            "-0.018351 -0.041156  0.069979  0.035350 -0.016570  ...   0.016804   0.035138   \n",
            "-0.018287 -0.061869  0.038923  0.005793  0.002142  ...  -0.036829   0.007468   \n",
            "-0.018282 -0.053581  0.052689  0.006315 -0.013151  ...  -0.020097   0.027010   \n",
            "...             ...       ...       ...       ...  ...        ...        ...   \n",
            " 0.048249 -0.078653  0.056522 -0.015327  0.017447  ...  -0.004517   0.015623   \n",
            " 0.050634 -0.080011  0.055160 -0.012301  0.017310  ...  -0.006518   0.014939   \n",
            " 0.051469 -0.080282  0.056295 -0.014050  0.018437  ...  -0.005513   0.015625   \n",
            " 0.052276 -0.080198  0.050673 -0.008293  0.017815  ...  -0.004994   0.018941   \n",
            " 0.055745 -0.078155  0.047671 -0.002512  0.005397  ...  -0.020857   0.011605   \n",
            "\n",
            "           embed_760  embed_761  embed_762  embed_763  embed_764  embed_765  \\\n",
            "embed_5                                                                       \n",
            "-0.020781  -0.031722  -0.025627   0.003354   0.040441   0.013596  -0.013540   \n",
            "-0.019365  -0.024297  -0.032099   0.023854   0.058947   0.013659  -0.029026   \n",
            "-0.018351  -0.021143  -0.027258   0.023557   0.058025  -0.000111  -0.024650   \n",
            "-0.018287  -0.021441  -0.054576   0.022109   0.045153  -0.012765   0.012858   \n",
            "-0.018282  -0.051562  -0.066060   0.007249   0.051089  -0.017801   0.015606   \n",
            "...              ...        ...        ...        ...        ...        ...   \n",
            " 0.048249  -0.030503  -0.054360   0.015950   0.065309   0.005726   0.017456   \n",
            " 0.050634  -0.030674  -0.052872   0.015997   0.063816   0.006006   0.017643   \n",
            " 0.051469  -0.029986  -0.056689   0.012677   0.067451   0.007570   0.017474   \n",
            " 0.052276  -0.020982  -0.057141   0.021174   0.059645   0.025370   0.011008   \n",
            " 0.055745  -0.038579  -0.056047   0.031930   0.062733   0.011645   0.017608   \n",
            "\n",
            "           embed_766  embed_767  \n",
            "embed_5                          \n",
            "-0.020781  -0.037804   0.006892  \n",
            "-0.019365  -0.017000  -0.016374  \n",
            "-0.018351  -0.026667  -0.010811  \n",
            "-0.018287  -0.029017  -0.015193  \n",
            "-0.018282  -0.042504  -0.034781  \n",
            "...              ...        ...  \n",
            " 0.048249  -0.020701   0.013269  \n",
            " 0.050634  -0.022838   0.012234  \n",
            " 0.051469  -0.020272   0.016371  \n",
            " 0.052276  -0.014365   0.006659  \n",
            " 0.055745  -0.048433   0.020883  \n",
            "\n",
            "[1031 rows x 768 columns]\n",
            "Inter class spread of class 1:            Unnamed: 0  embed_1  embed_2  embed_3  embed_4  embed_5  embed_6  \\\n",
            "embed_0                                                                       \n",
            "-0.093720         NaN      NaN      NaN      NaN      NaN      NaN      NaN   \n",
            "-0.093552         NaN      NaN      NaN      NaN      NaN      NaN      NaN   \n",
            "-0.088469         NaN      NaN      NaN      NaN      NaN      NaN      NaN   \n",
            "-0.086676         NaN      NaN      NaN      NaN      NaN      NaN      NaN   \n",
            "-0.086598         NaN      NaN      NaN      NaN      NaN      NaN      NaN   \n",
            "...               ...      ...      ...      ...      ...      ...      ...   \n",
            " 0.009432         NaN      NaN      NaN      NaN      NaN      NaN      NaN   \n",
            " 0.009859         NaN      NaN      NaN      NaN      NaN      NaN      NaN   \n",
            " 0.010180         NaN      NaN      NaN      NaN      NaN      NaN      NaN   \n",
            " 0.012481         NaN      NaN      NaN      NaN      NaN      NaN      NaN   \n",
            " 0.014936         NaN      NaN      NaN      NaN      NaN      NaN      NaN   \n",
            "\n",
            "           embed_7  embed_8  embed_9  ...  embed_758  embed_759  embed_760  \\\n",
            "embed_0                               ...                                    \n",
            "-0.093720      NaN      NaN      NaN  ...        NaN        NaN        NaN   \n",
            "-0.093552      NaN      NaN      NaN  ...        NaN        NaN        NaN   \n",
            "-0.088469      NaN      NaN      NaN  ...        NaN        NaN        NaN   \n",
            "-0.086676      NaN      NaN      NaN  ...        NaN        NaN        NaN   \n",
            "-0.086598      NaN      NaN      NaN  ...        NaN        NaN        NaN   \n",
            "...            ...      ...      ...  ...        ...        ...        ...   \n",
            " 0.009432      NaN      NaN      NaN  ...        NaN        NaN        NaN   \n",
            " 0.009859      NaN      NaN      NaN  ...        NaN        NaN        NaN   \n",
            " 0.010180      NaN      NaN      NaN  ...        NaN        NaN        NaN   \n",
            " 0.012481      NaN      NaN      NaN  ...        NaN        NaN        NaN   \n",
            " 0.014936      NaN      NaN      NaN  ...        NaN        NaN        NaN   \n",
            "\n",
            "           embed_761  embed_762  embed_763  embed_764  embed_765  embed_766  \\\n",
            "embed_0                                                                       \n",
            "-0.093720        NaN        NaN        NaN        NaN        NaN        NaN   \n",
            "-0.093552        NaN        NaN        NaN        NaN        NaN        NaN   \n",
            "-0.088469        NaN        NaN        NaN        NaN        NaN        NaN   \n",
            "-0.086676        NaN        NaN        NaN        NaN        NaN        NaN   \n",
            "-0.086598        NaN        NaN        NaN        NaN        NaN        NaN   \n",
            "...              ...        ...        ...        ...        ...        ...   \n",
            " 0.009432        NaN        NaN        NaN        NaN        NaN        NaN   \n",
            " 0.009859        NaN        NaN        NaN        NaN        NaN        NaN   \n",
            " 0.010180        NaN        NaN        NaN        NaN        NaN        NaN   \n",
            " 0.012481        NaN        NaN        NaN        NaN        NaN        NaN   \n",
            " 0.014936        NaN        NaN        NaN        NaN        NaN        NaN   \n",
            "\n",
            "           embed_767  \n",
            "embed_0               \n",
            "-0.093720        NaN  \n",
            "-0.093552        NaN  \n",
            "-0.088469        NaN  \n",
            "-0.086676        NaN  \n",
            "-0.086598        NaN  \n",
            "...              ...  \n",
            " 0.009432        NaN  \n",
            " 0.009859        NaN  \n",
            " 0.010180        NaN  \n",
            " 0.012481        NaN  \n",
            " 0.014936        NaN  \n",
            "\n",
            "[1031 rows x 768 columns]\n",
            "Inter class spread of class 2:            Unnamed: 0  embed_0  embed_1  embed_2  embed_3  embed_4  embed_6  \\\n",
            "embed_5                                                                       \n",
            "-0.020781         NaN      NaN      NaN      NaN      NaN      NaN      NaN   \n",
            "-0.019365         NaN      NaN      NaN      NaN      NaN      NaN      NaN   \n",
            "-0.018351         NaN      NaN      NaN      NaN      NaN      NaN      NaN   \n",
            "-0.018287         NaN      NaN      NaN      NaN      NaN      NaN      NaN   \n",
            "-0.018282         NaN      NaN      NaN      NaN      NaN      NaN      NaN   \n",
            "...               ...      ...      ...      ...      ...      ...      ...   \n",
            " 0.048249         NaN      NaN      NaN      NaN      NaN      NaN      NaN   \n",
            " 0.050634         NaN      NaN      NaN      NaN      NaN      NaN      NaN   \n",
            " 0.051469         NaN      NaN      NaN      NaN      NaN      NaN      NaN   \n",
            " 0.052276         NaN      NaN      NaN      NaN      NaN      NaN      NaN   \n",
            " 0.055745         NaN      NaN      NaN      NaN      NaN      NaN      NaN   \n",
            "\n",
            "           embed_7  embed_8  embed_9  ...  embed_758  embed_759  embed_760  \\\n",
            "embed_5                               ...                                    \n",
            "-0.020781      NaN      NaN      NaN  ...        NaN        NaN        NaN   \n",
            "-0.019365      NaN      NaN      NaN  ...        NaN        NaN        NaN   \n",
            "-0.018351      NaN      NaN      NaN  ...        NaN        NaN        NaN   \n",
            "-0.018287      NaN      NaN      NaN  ...        NaN        NaN        NaN   \n",
            "-0.018282      NaN      NaN      NaN  ...        NaN        NaN        NaN   \n",
            "...            ...      ...      ...  ...        ...        ...        ...   \n",
            " 0.048249      NaN      NaN      NaN  ...        NaN        NaN        NaN   \n",
            " 0.050634      NaN      NaN      NaN  ...        NaN        NaN        NaN   \n",
            " 0.051469      NaN      NaN      NaN  ...        NaN        NaN        NaN   \n",
            " 0.052276      NaN      NaN      NaN  ...        NaN        NaN        NaN   \n",
            " 0.055745      NaN      NaN      NaN  ...        NaN        NaN        NaN   \n",
            "\n",
            "           embed_761  embed_762  embed_763  embed_764  embed_765  embed_766  \\\n",
            "embed_5                                                                       \n",
            "-0.020781        NaN        NaN        NaN        NaN        NaN        NaN   \n",
            "-0.019365        NaN        NaN        NaN        NaN        NaN        NaN   \n",
            "-0.018351        NaN        NaN        NaN        NaN        NaN        NaN   \n",
            "-0.018287        NaN        NaN        NaN        NaN        NaN        NaN   \n",
            "-0.018282        NaN        NaN        NaN        NaN        NaN        NaN   \n",
            "...              ...        ...        ...        ...        ...        ...   \n",
            " 0.048249        NaN        NaN        NaN        NaN        NaN        NaN   \n",
            " 0.050634        NaN        NaN        NaN        NaN        NaN        NaN   \n",
            " 0.051469        NaN        NaN        NaN        NaN        NaN        NaN   \n",
            " 0.052276        NaN        NaN        NaN        NaN        NaN        NaN   \n",
            " 0.055745        NaN        NaN        NaN        NaN        NaN        NaN   \n",
            "\n",
            "           embed_767  \n",
            "embed_5               \n",
            "-0.020781        NaN  \n",
            "-0.019365        NaN  \n",
            "-0.018351        NaN  \n",
            "-0.018287        NaN  \n",
            "-0.018282        NaN  \n",
            "...              ...  \n",
            " 0.048249        NaN  \n",
            " 0.050634        NaN  \n",
            " 0.051469        NaN  \n",
            " 0.052276        NaN  \n",
            " 0.055745        NaN  \n",
            "\n",
            "[1031 rows x 768 columns]\n",
            "Euclidian Distance of class 1: nan\n",
            "Euclidian Distance of class 2: nan\n"
          ]
        }
      ],
      "source": [
        "#A1)Evaluate the intraclass spread and interclass distances between the classes in your dataset\n",
        "grouped_data1 = data.groupby('embed_0')\n",
        "grouped_data2 = data.groupby('embed_5')\n",
        "\n",
        "#Calculate the centroid mean for each class\n",
        "centroid1 = grouped_data1.mean()\n",
        "centroid2 = grouped_data2.mean()\n",
        "print(\"Class Centroid of class 1:\",centroid1)\n",
        "print(\"Class Centroid of class 2:\",centroid2)\n",
        "\n",
        "#Calculate spread (standard deviation) for each class\n",
        "intraclass_spread1 = grouped_data1.var()\n",
        "intraclass_spread2 = grouped_data2.var()\n",
        "print(\"Inter class spread of class 1:\",intraclass_spread1)\n",
        "print(\"Inter class spread of class 2:\",intraclass_spread2)\n",
        "\n",
        "#Calculate the distance between mean vectors between classes\n",
        "dist1 = nm.linalg.norm(centroid1 - centroid2)\n",
        "dist2 = nm.linalg.norm(centroid1 - centroid2)\n",
        "print(\"Euclidian Distance of class 1:\",dist1)\n",
        "print(\"Euclidian Distance of class 2:\",dist2)"
      ]
    },
    {
      "cell_type": "code",
      "execution_count": null,
      "metadata": {
        "colab": {
          "base_uri": "https://localhost:8080/",
          "height": 517
        },
        "id": "_UdpZnh6M_7n",
        "outputId": "7170e07c-8cf6-4a95-c192-af4244aab1e5"
      },
      "outputs": [
        {
          "output_type": "display_data",
          "data": {
            "text/plain": [
              "<Figure size 640x480 with 1 Axes>"
            ],
            "image/png": "[encoded data removed]"
          },
          "metadata": {}
        },
        {
          "output_type": "stream",
          "name": "stdout",
          "text": [
            "(array([  1,   3,  14,  54, 112, 197, 299, 277, 138,  32]), array([-0.01297887, -0.0047093 ,  0.00356026,  0.01182983,  0.02009939,\n",
            "        0.02836896,  0.03663852,  0.04490809,  0.05317765,  0.06144722,\n",
            "        0.06971678]))\n",
            "Mean:0.04068505144036584\n",
            "Variance:0.00015191073472770316\n"
          ]
        }
      ],
      "source": [
        "#A2)Take any feature from your dataset. Observe the density pattern for that feature by plotting the histogram. Use buckets (data in ranges) for histogram generation and study. Calculate the mean and variance from the available data.\n",
        "\n",
        "import matplotlib.pyplot as plot\n",
        "d = data['embed_10']\n",
        "plot.hist(d, bins=10)\n",
        "plot.show()\n",
        "y=nm.array(data['embed_10'])\n",
        "h = nm.histogram(y)\n",
        "print(h)\n",
        "print(\"Mean:\"+str(y.mean()))\n",
        "print(\"Variance:\"+str(y.var()))"
      ]
    },
    {
      "cell_type": "code",
      "execution_count": null,
      "metadata": {
        "colab": {
          "base_uri": "https://localhost:8080/",
          "height": 467
        },
        "id": "wxe8tu1eRXAk",
        "outputId": "b1159453-50b4-45ce-f980-a548c325d7cc"
      },
      "outputs": [
        {
          "output_type": "stream",
          "name": "stdout",
          "text": [
            "[19.736852162284777, 0.7303400526070902, 0.2610080160266892, 0.16139211606109416, 0.12334794243433905, 0.10438328555107156, 0.09339245954605124, 0.08637541745418105, 0.08158289674868288, 0.07814335813480806]\n"
          ]
        },
        {
          "output_type": "display_data",
          "data": {
            "text/plain": [
              "<Figure size 640x480 with 1 Axes>"
            ],
            "image/png": "[encoded data removed]"
          },
          "metadata": {}
        }
      ],
      "source": [
        "#A3) Take any two feature vectors from your dataset. Calculate the Minkwoski distance with r from 1 to 10.\n",
        "#Make a plot of the distance and observe the nature of this graph.\n",
        "from scipy.spatial import distance\n",
        "vector1 = nm.array(data[\"embed_3\"])\n",
        "vector2 = nm.array(data[\"embed_57\"])\n",
        "minkowski = []\n",
        "# Calculate Minkowski distances from 1 to 10\n",
        "for i in range (1,11):\n",
        "  minkowski = minkowski+[distance.minkowski(vector1,vector2, i)]\n",
        "print(minkowski)\n",
        "\n",
        "max_val = nm.max(minkowski)\n",
        "plot.bar(minkowski,max_val)\n",
        "plot.show()\n",
        "\n"
      ]
    },
    {
      "cell_type": "code",
      "execution_count": null,
      "metadata": {
        "colab": {
          "base_uri": "https://localhost:8080/"
        },
        "id": "dJ7MiZQJlL0k",
        "outputId": "e8356245-6178-4842-bf4d-7f41dd0ff1ea"
      },
      "outputs": [
        {
          "output_type": "stream",
          "name": "stdout",
          "text": [
            "X_train shape: (901, 1)\n",
            "y_train shape: (901, 1)\n",
            "X_test shape: (226, 1)\n",
            "y_test shape: (226, 1)\n",
            "X_train shape: (901, 1)\n",
            "y_train shape: (901, 1)\n",
            "X_test shape: (226, 1)\n",
            "y_test shape: (226, 1)\n"
          ]
        }
      ],
      "source": [
        "#A4)Divide dataset in your project into two parts –train & test set\n",
        "from sklearn.model_selection import train_test_split\n",
        "from sklearn.linear_model import LogisticRegression\n",
        "from sklearn.metrics import accuracy_score, confusion_matrix\n",
        "\n",
        "data = ps.read_excel(excel, 'Sheet1')\n",
        "num_bins = 4\n",
        "\n",
        "# Perform equal width binning\n",
        "data['embed_1_b'] = ps.cut(data['embed_1'], num_bins)\n",
        "data['embed_12_b'] = ps.cut(data['embed_12'], num_bins)\n",
        "from sklearn.model_selection import train_test_split\n",
        "#for one class\n",
        "X = data['embed_1']\n",
        "y = data['embed_1_b']\n",
        "X = X.values.reshape(-1, 1)\n",
        "y = y.values.reshape(-1, 1)\n",
        "X_train, X_test, y_train, y_test = train_test_split(X, y, test_size=0.2, random_state=42)\n",
        "print(\"X_train shape:\", X_train.shape)\n",
        "print(\"y_train shape:\", y_train.shape)\n",
        "print(\"X_test shape:\", X_test.shape)\n",
        "print(\"y_test shape:\", y_test.shape)\n",
        "#other class\n",
        "X1 = data['embed_1']\n",
        "y1 = data['embed_1_b']\n",
        "X1 = X1.values.reshape(-1, 1)\n",
        "y1 = y1.values.reshape(-1, 1)\n",
        "X1_train, X1_test, y1_train, y1_test = train_test_split(X1, y1, test_size=0.2, random_state=42)\n",
        "print(\"X_train shape:\", X1_train.shape)\n",
        "print(\"y_train shape:\", y1_train.shape)\n",
        "print(\"X_test shape:\", X1_test.shape)\n",
        "print(\"y_test shape:\", y1_test.shape)\n",
        "\n",
        "\n",
        "\n",
        "\n",
        "\n",
        "\n",
        "\n",
        "\n"
      ]
    },
    {
      "cell_type": "code",
      "execution_count": null,
      "metadata": {
        "colab": {
          "base_uri": "https://localhost:8080/"
        },
        "id": "BYcm5343fEFJ",
        "outputId": "ca05b89d-cee8-417c-c669-661b8ee60b94"
      },
      "outputs": [
        {
          "output_type": "stream",
          "name": "stdout",
          "text": [
            "[1 1 1 1 2 2 0 1 1 2 2 1 0 1 1 0 1 1 1 0 1 1 0 0 1 1 1 1 2 1 2 1 1 1 2 1 1\n",
            " 0 1 1 0 1 2 0 2 1 1 2 1 2 2 1 1 2 0 0 1 1 1 2 2 2 2 1 1 2 1 1 1 1 1 1 1 2\n",
            " 2 1 1 0 1 1 1 2 0 1 1 1 2 2 1 1 0 0 2 0 0 1 1 1 1 0 1 1 2 1 1 1 2 2 1 2 1\n",
            " 1 2 2 1 2 2 0 2 1 1 1 1 1 1 1 1 1 1 2 1 1 2 1 1 2 1 2 3 2 1 2 0 2 2 2 1 2\n",
            " 2 2 2 0 1 1 2 2 2 0 2 1 2 0 2 2 0 1 0 1 2 1 1 2 2 1 0 0 2 1 2 2 1 2 1 1 1\n",
            " 1 1 1 0 0 1 1 2 1 0 0 1 3 2 1 2 1 1 2 1 0 1 1 1 2 1 1 1 2 1 1 2 0 1 1 1 0\n",
            " 0 0 0 1]\n"
          ]
        },
        {
          "output_type": "stream",
          "name": "stderr",
          "text": [
            "/usr/local/lib/python3.10/dist-packages/sklearn/preprocessing/_label.py:116: DataConversionWarning: A column-vector y was passed when a 1d array was expected. Please change the shape of y to (n_samples, ), for example using ravel().\n",
            "  y = column_or_1d(y, warn=True)\n",
            "/usr/local/lib/python3.10/dist-packages/sklearn/preprocessing/_label.py:116: DataConversionWarning: A column-vector y was passed when a 1d array was expected. Please change the shape of y to (n_samples, ), for example using ravel().\n",
            "  y = column_or_1d(y, warn=True)\n",
            "/usr/local/lib/python3.10/dist-packages/sklearn/neighbors/_classification.py:215: DataConversionWarning: A column-vector y was passed when a 1d array was expected. Please change the shape of y to (n_samples,), for example using ravel().\n",
            "  return self._fit(X, y)\n"
          ]
        }
      ],
      "source": [
        "#A5) Train a kNN classifier (k =3)using the training set obtained\n",
        "\n",
        "from sklearn.neighbors import KNeighborsClassifier\n",
        "from sklearn.preprocessing import LabelEncoder\n",
        "label_encoder = LabelEncoder()\n",
        "X_train_encoded = label_encoder.fit_transform(X_train)\n",
        "y_train_encoded = label_encoder.fit_transform(y_train)\n",
        "\n",
        "y_train_encoded= y_train_encoded.reshape(-1, 1)\n",
        "knn_classifier = KNeighborsClassifier(n_neighbors=3)\n",
        "knn_classifier.fit(X_train, y_train_encoded)\n",
        "\n",
        "y_pred = knn_classifier.predict(X_test)\n",
        "print(y_pred)\n"
      ]
    },
    {
      "cell_type": "code",
      "execution_count": null,
      "metadata": {
        "colab": {
          "base_uri": "https://localhost:8080/"
        },
        "id": "28Wun_5qtpuF",
        "outputId": "c19b2681-483c-4aa9-d644-009c3d2b51da"
      },
      "outputs": [
        {
          "output_type": "stream",
          "name": "stdout",
          "text": [
            "0.008849557522123894\n"
          ]
        },
        {
          "output_type": "stream",
          "name": "stderr",
          "text": [
            "/usr/local/lib/python3.10/dist-packages/sklearn/preprocessing/_label.py:134: DataConversionWarning: A column-vector y was passed when a 1d array was expected. Please change the shape of y to (n_samples, ), for example using ravel().\n",
            "  y = column_or_1d(y, dtype=self.classes_.dtype, warn=True)\n"
          ]
        }
      ],
      "source": [
        "#A6)Test the accuracy of the kNNusing the test set obtained from above exercise\n",
        "y_test_encoded = label_encoder.transform(y_test)\n",
        "y_test_encoded= y_test_encoded.reshape(-1, 1)\n",
        "\n",
        "score = knn_classifier.score(y_test_encoded, y_pred)\n",
        "print(score)"
      ]
    },
    {
      "cell_type": "code",
      "execution_count": null,
      "metadata": {
        "colab": {
          "base_uri": "https://localhost:8080/"
        },
        "id": "jvKv863m9bxZ",
        "outputId": "775f51fe-bf0a-44cf-cc05-49ddfc220cb5"
      },
      "outputs": [
        {
          "output_type": "execute_result",
          "data": {
            "text/plain": [
              "array([1, 1, 1, 1, 2, 2, 0, 1, 1, 2, 2, 1, 0, 1, 1, 0, 1, 1, 1, 0, 1, 1,\n",
              "       0, 0, 1, 1, 1, 1, 2, 1, 2, 1, 1, 1, 2, 1, 1, 0, 1, 1, 0, 1, 2, 0,\n",
              "       2, 1, 1, 2, 1, 2, 2, 1, 1, 2, 0, 0, 1, 1, 1, 2, 2, 2, 2, 1, 1, 2,\n",
              "       1, 1, 1, 1, 1, 1, 1, 2, 2, 1, 1, 0, 1, 1, 1, 2, 0, 1, 1, 1, 2, 2,\n",
              "       1, 1, 0, 0, 2, 0, 0, 1, 1, 1, 1, 0, 1, 1, 2, 1, 1, 1, 2, 2, 1, 2,\n",
              "       1, 1, 2, 2, 1, 2, 2, 0, 2, 1, 1, 1, 1, 1, 1, 1, 1, 1, 1, 2, 1, 1,\n",
              "       2, 1, 1, 2, 1, 2, 3, 2, 1, 2, 0, 2, 2, 2, 1, 2, 2, 2, 2, 0, 1, 1,\n",
              "       2, 2, 2, 0, 2, 1, 2, 0, 2, 2, 0, 1, 0, 1, 2, 1, 1, 2, 2, 1, 0, 0,\n",
              "       2, 1, 2, 2, 1, 2, 1, 1, 1, 1, 1, 1, 0, 0, 1, 1, 2, 1, 0, 0, 1, 3,\n",
              "       2, 1, 2, 1, 1, 2, 1, 0, 1, 1, 1, 2, 1, 1, 1, 2, 1, 1, 2, 0, 1, 1,\n",
              "       1, 0, 0, 0, 0, 1])"
            ]
          },
          "metadata": {},
          "execution_count": 19
        }
      ],
      "source": [
        "#A7)Use the predict() function to study the prediction behavior\n",
        "from sklearn.neighbors import KNeighborsClassifier\n",
        "knn_classifier.predict(X_test)\n",
        "\n"
      ]
    },
    {
      "cell_type": "code",
      "execution_count": null,
      "metadata": {
        "colab": {
          "base_uri": "https://localhost:8080/",
          "height": 851
        },
        "id": "WuddPBLBPbWt",
        "outputId": "d2e9d439-150d-4ce1-af4e-f2269bb3070e"
      },
      "outputs": [
        {
          "output_type": "stream",
          "name": "stderr",
          "text": [
            "/usr/local/lib/python3.10/dist-packages/sklearn/neighbors/_classification.py:215: DataConversionWarning: A column-vector y was passed when a 1d array was expected. Please change the shape of y to (n_samples,), for example using ravel().\n",
            "  return self._fit(X, y)\n",
            "/usr/local/lib/python3.10/dist-packages/sklearn/neighbors/_classification.py:215: DataConversionWarning: A column-vector y was passed when a 1d array was expected. Please change the shape of y to (n_samples,), for example using ravel().\n",
            "  return self._fit(X, y)\n",
            "/usr/local/lib/python3.10/dist-packages/sklearn/neighbors/_classification.py:215: DataConversionWarning: A column-vector y was passed when a 1d array was expected. Please change the shape of y to (n_samples,), for example using ravel().\n",
            "  return self._fit(X, y)\n",
            "/usr/local/lib/python3.10/dist-packages/sklearn/neighbors/_classification.py:215: DataConversionWarning: A column-vector y was passed when a 1d array was expected. Please change the shape of y to (n_samples,), for example using ravel().\n",
            "  return self._fit(X, y)\n",
            "/usr/local/lib/python3.10/dist-packages/sklearn/neighbors/_classification.py:215: DataConversionWarning: A column-vector y was passed when a 1d array was expected. Please change the shape of y to (n_samples,), for example using ravel().\n",
            "  return self._fit(X, y)\n",
            "/usr/local/lib/python3.10/dist-packages/sklearn/neighbors/_classification.py:215: DataConversionWarning: A column-vector y was passed when a 1d array was expected. Please change the shape of y to (n_samples,), for example using ravel().\n",
            "  return self._fit(X, y)\n",
            "/usr/local/lib/python3.10/dist-packages/sklearn/neighbors/_classification.py:215: DataConversionWarning: A column-vector y was passed when a 1d array was expected. Please change the shape of y to (n_samples,), for example using ravel().\n",
            "  return self._fit(X, y)\n",
            "/usr/local/lib/python3.10/dist-packages/sklearn/neighbors/_classification.py:215: DataConversionWarning: A column-vector y was passed when a 1d array was expected. Please change the shape of y to (n_samples,), for example using ravel().\n",
            "  return self._fit(X, y)\n",
            "/usr/local/lib/python3.10/dist-packages/sklearn/neighbors/_classification.py:215: DataConversionWarning: A column-vector y was passed when a 1d array was expected. Please change the shape of y to (n_samples,), for example using ravel().\n",
            "  return self._fit(X, y)\n",
            "/usr/local/lib/python3.10/dist-packages/sklearn/neighbors/_classification.py:215: DataConversionWarning: A column-vector y was passed when a 1d array was expected. Please change the shape of y to (n_samples,), for example using ravel().\n",
            "  return self._fit(X, y)\n"
          ]
        },
        {
          "output_type": "stream",
          "name": "stdout",
          "text": [
            "[1.0, 0.9988901220865705, 1.0, 0.9977802441731409, 0.9988901220865705, 0.9977802441731409, 0.9988901220865705, 0.9966703662597114, 0.9988901220865705, 0.9977802441731409]\n",
            "[1.0, 0.9988901220865705, 1.0, 0.9977802441731409, 0.9988901220865705, 0.9977802441731409, 0.9988901220865705, 0.9966703662597114, 0.9988901220865705, 0.9977802441731409]\n"
          ]
        },
        {
          "output_type": "display_data",
          "data": {
            "text/plain": [
              "<Figure size 640x480 with 1 Axes>"
            ],
            "image/png": "[encoded data removed]"
          },
          "metadata": {}
        }
      ],
      "source": [
        "#A8)Make k = 1 to implement NN classifier and compare the results with kNN (k = 3). Vary k from 1 to 11 and make an accuracy plot.\n",
        "X_train_encoded= X_train_encoded.reshape(-1, 1)\n",
        "y_train_encoded= y_train_encoded.reshape(-1, 1)\n",
        "value=[]\n",
        "for i in range(1,11):\n",
        "  neigh = KNeighborsClassifier(n_neighbors=i)\n",
        "  neigh.fit(X_train_encoded, y_train_encoded)\n",
        "  xy_acc = neigh.score(X_train_encoded,y_train_encoded)\n",
        "  value = value + [xy_acc]\n",
        "print(value)\n",
        "print(value)\n",
        "k_values = [1,2,3,4,5,6,7,8,9,10]\n",
        "plot.plot(k_values,value)\n",
        "plot.xlabel(\"k values\")\n",
        "plot.ylabel(\"Accuracy Values\")\n",
        "plot.show()"
      ]
    },
    {
      "cell_type": "code",
      "execution_count": null,
      "metadata": {
        "colab": {
          "base_uri": "https://localhost:8080/"
        },
        "id": "S4yy1O9HRiWy",
        "outputId": "fbfece41-8d4f-4416-e5f3-631ed159ffc6"
      },
      "outputs": [
        {
          "output_type": "stream",
          "name": "stdout",
          "text": [
            "[[ 37   0   0   0]\n",
            " [  0 120   0   0]\n",
            " [  0   0  67   1]\n",
            " [  0   0   0   1]]\n",
            "Precision: 1.00\n",
            "Recall: 1.00\n",
            "F1-Score: 1.00\n",
            "The model is achieving a balanced fit.\n"
          ]
        }
      ],
      "source": [
        "#A9)evaluate confusion matrix for your classification problem\n",
        "from sklearn.metrics import confusion_matrix, precision_score, recall_score, f1_score\n",
        "\n",
        "conf_matrix = confusion_matrix(y_test_encoded, y_pred)\n",
        "print(conf_matrix)\n",
        "\n",
        "#precision\n",
        "precision = precision_score(y_test_encoded, y_pred, average='weighted')\n",
        "\n",
        "#recall\n",
        "recall = recall_score(y_test_encoded, y_pred, average='weighted')\n",
        "\n",
        "# F1-Score\n",
        "f1 = f1_score(y_test_encoded, y_pred, average='weighted')\n",
        "\n",
        "\n",
        "# Print the results\n",
        "print(f\"Precision: {precision:.2f}\")\n",
        "print(f\"Recall: {recall:.2f}\")\n",
        "print(f\"F1-Score: {f1:.2f}\")\n",
        "if precision < 0.5 and recall < 0.5:\n",
        "    print(\"The model is likely underfitting.\")\n",
        "elif precision > 0.8 and recall < 0.5:\n",
        "    print(\"The model is likely overfitting.\")\n",
        "else:\n",
        "    print(\"The model is achieving a balanced fit.\")\n",
        "\n",
        "\n",
        "\n",
        "\n",
        "\n",
        "\n",
        "\n",
        "\n",
        "\n"
      ]
    }
  ],
  "metadata": {
    "colab": {
      "provenance": [],
      "authorship_tag": "ABX9TyNBBEyHoHxrSvpUes3X9ijp",
      "include_colab_link": true
    },
    "kernelspec": {
      "display_name": "Python 3",
      "name": "python3"
    },
    "language_info": {
      "name": "python"
    }
  },
  "nbformat": 4,
  "nbformat_minor": 0
}